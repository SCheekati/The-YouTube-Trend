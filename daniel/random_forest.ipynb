{
 "cells": [
  {
   "cell_type": "code",
   "execution_count": 1,
   "metadata": {},
   "outputs": [],
   "source": [
    "import numpy as np\n",
    "import pandas as pd\n",
    "import matplotlib.pyplot as plt\n",
    "import time"
   ]
  },
  {
   "cell_type": "code",
   "execution_count": 2,
   "metadata": {},
   "outputs": [],
   "source": [
    "nontrend = pd.read_csv('..\\\\dataset\\\\output\\\\US_youtube_nontrending_data.csv')\n",
    "trend = pd.read_csv('..\\\\dataset\\\\output\\\\US_youtube_trending_data_0222_0313.csv')\n",
    "df = pd.concat([nontrend, trend], ignore_index=True)"
   ]
  },
  {
   "cell_type": "code",
   "execution_count": 3,
   "metadata": {},
   "outputs": [],
   "source": [
    "from sklearn.ensemble import RandomForestClassifier\n",
    "from sklearn.model_selection import KFold"
   ]
  },
  {
   "cell_type": "code",
   "execution_count": 6,
   "metadata": {},
   "outputs": [],
   "source": [
    "data = df.to_numpy()\n",
    "np.random.shuffle(data)\n",
    "X = data[:, (5, 8, 9, 10, 11, 13)].astype(np.float64)\n",
    "y = data[:, 15].astype(np.float64)\n",
    "X = X - np.mean(X, axis=0, keepdims=True)\n",
    "X = X / np.std(X, axis=0, keepdims=True)"
   ]
  },
  {
   "cell_type": "code",
   "execution_count": 12,
   "metadata": {},
   "outputs": [],
   "source": [
    "def score(rfc):\n",
    "    kf = KFold(n_splits = 10, shuffle=True, random_state=42)\n",
    "    score = np.zeros(10)\n",
    "\n",
    "    for i, (train, test) in enumerate(kf.split(X, y)):\n",
    "        rfc.fit(X[train], y[train])\n",
    "        score[i] = rfc.score(X[test], y[test])\n",
    "\n",
    "    return score.mean()"
   ]
  },
  {
   "cell_type": "code",
   "execution_count": 16,
   "metadata": {},
   "outputs": [
    {
     "name": "stdout",
     "output_type": "stream",
     "text": [
      "0.959349593495935\n"
     ]
    }
   ],
   "source": [
    "r0 = RandomForestClassifier()\n",
    "print(score(r0))"
   ]
  },
  {
   "cell_type": "code",
   "execution_count": 17,
   "metadata": {},
   "outputs": [
    {
     "name": "stdout",
     "output_type": "stream",
     "text": [
      "0.9565040650406506\n"
     ]
    }
   ],
   "source": [
    "r1 = RandomForestClassifier(50)\n",
    "print(score(r1))"
   ]
  },
  {
   "cell_type": "code",
   "execution_count": 19,
   "metadata": {},
   "outputs": [
    {
     "name": "stdout",
     "output_type": "stream",
     "text": [
      "0.9603658536585366\n"
     ]
    }
   ],
   "source": [
    "r2 = RandomForestClassifier(n_estimators=50, criterion='entropy')\n",
    "print(score(r2))"
   ]
  },
  {
   "cell_type": "code",
   "execution_count": 20,
   "metadata": {},
   "outputs": [
    {
     "name": "stdout",
     "output_type": "stream",
     "text": [
      "0.9603658536585366\n"
     ]
    }
   ],
   "source": [
    "r3 = RandomForestClassifier(n_estimators=50, criterion='log_loss')\n",
    "print(score(r3))"
   ]
  }
 ],
 "metadata": {
  "kernelspec": {
   "display_name": "base",
   "language": "python",
   "name": "python3"
  },
  "language_info": {
   "codemirror_mode": {
    "name": "ipython",
    "version": 3
   },
   "file_extension": ".py",
   "mimetype": "text/x-python",
   "name": "python",
   "nbconvert_exporter": "python",
   "pygments_lexer": "ipython3",
   "version": "3.9.16"
  },
  "orig_nbformat": 4
 },
 "nbformat": 4,
 "nbformat_minor": 2
}
