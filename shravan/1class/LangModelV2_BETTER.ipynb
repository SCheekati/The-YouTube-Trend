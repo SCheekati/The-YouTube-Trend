{
 "cells": [
  {
   "cell_type": "code",
   "execution_count": 1,
   "metadata": {},
   "outputs": [],
   "source": [
    "import pandas as pd\n",
    "import numpy as np"
   ]
  },
  {
   "cell_type": "code",
   "execution_count": 2,
   "metadata": {},
   "outputs": [],
   "source": [
    "traindf = pd.read_csv('C:\\\\Users\\\\cheek\\\\ML-7641-Team14\\\\dataset\\\\output\\\\dataset_mar_23\\\\new_train.csv')\n",
    "valdf = pd.read_csv('C:\\\\Users\\\\cheek\\\\ML-7641-Team14\\\\dataset\\output\\\\dataset_mar_23\\\\new_val.csv')"
   ]
  },
  {
   "attachments": {},
   "cell_type": "markdown",
   "metadata": {},
   "source": [
    "# Duplicate rows check"
   ]
  },
  {
   "cell_type": "code",
   "execution_count": 3,
   "metadata": {},
   "outputs": [
    {
     "data": {
      "text/html": [
       "<div>\n",
       "<style scoped>\n",
       "    .dataframe tbody tr th:only-of-type {\n",
       "        vertical-align: middle;\n",
       "    }\n",
       "\n",
       "    .dataframe tbody tr th {\n",
       "        vertical-align: top;\n",
       "    }\n",
       "\n",
       "    .dataframe thead th {\n",
       "        text-align: right;\n",
       "    }\n",
       "</style>\n",
       "<table border=\"1\" class=\"dataframe\">\n",
       "  <thead>\n",
       "    <tr style=\"text-align: right;\">\n",
       "      <th></th>\n",
       "      <th>video_id</th>\n",
       "      <th>title</th>\n",
       "      <th>publishedAt</th>\n",
       "      <th>channelId</th>\n",
       "      <th>channelTitle</th>\n",
       "      <th>categoryId</th>\n",
       "      <th>cate_0</th>\n",
       "      <th>cate_1</th>\n",
       "      <th>cate_2</th>\n",
       "      <th>cate_3</th>\n",
       "      <th>...</th>\n",
       "      <th>trending_date</th>\n",
       "      <th>tags</th>\n",
       "      <th>views per day</th>\n",
       "      <th>likes per day</th>\n",
       "      <th>dislikes per day</th>\n",
       "      <th>comments per day</th>\n",
       "      <th>thumbnail_link</th>\n",
       "      <th>rating</th>\n",
       "      <th>description</th>\n",
       "      <th>trending</th>\n",
       "    </tr>\n",
       "  </thead>\n",
       "  <tbody>\n",
       "  </tbody>\n",
       "</table>\n",
       "<p>0 rows × 22 columns</p>\n",
       "</div>"
      ],
      "text/plain": [
       "Empty DataFrame\n",
       "Columns: [video_id, title, publishedAt, channelId, channelTitle, categoryId, cate_0, cate_1, cate_2, cate_3, cate_4, num_sub, trending_date, tags, views per day, likes per day, dislikes per day, comments per day, thumbnail_link, rating, description, trending]\n",
       "Index: []\n",
       "\n",
       "[0 rows x 22 columns]"
      ]
     },
     "execution_count": 3,
     "metadata": {},
     "output_type": "execute_result"
    }
   ],
   "source": [
    "duplicate_rows = traindf[traindf.duplicated(['video_id'], keep=False)]\n",
    "duplicate_rows"
   ]
  },
  {
   "cell_type": "code",
   "execution_count": 4,
   "metadata": {},
   "outputs": [
    {
     "data": {
      "text/html": [
       "<div>\n",
       "<style scoped>\n",
       "    .dataframe tbody tr th:only-of-type {\n",
       "        vertical-align: middle;\n",
       "    }\n",
       "\n",
       "    .dataframe tbody tr th {\n",
       "        vertical-align: top;\n",
       "    }\n",
       "\n",
       "    .dataframe thead th {\n",
       "        text-align: right;\n",
       "    }\n",
       "</style>\n",
       "<table border=\"1\" class=\"dataframe\">\n",
       "  <thead>\n",
       "    <tr style=\"text-align: right;\">\n",
       "      <th></th>\n",
       "      <th>video_id</th>\n",
       "      <th>title</th>\n",
       "      <th>publishedAt</th>\n",
       "      <th>channelId</th>\n",
       "      <th>channelTitle</th>\n",
       "      <th>categoryId</th>\n",
       "      <th>cate_0</th>\n",
       "      <th>cate_1</th>\n",
       "      <th>cate_2</th>\n",
       "      <th>cate_3</th>\n",
       "      <th>...</th>\n",
       "      <th>trending_date</th>\n",
       "      <th>tags</th>\n",
       "      <th>views per day</th>\n",
       "      <th>likes per day</th>\n",
       "      <th>dislikes per day</th>\n",
       "      <th>comments per day</th>\n",
       "      <th>thumbnail_link</th>\n",
       "      <th>rating</th>\n",
       "      <th>description</th>\n",
       "      <th>trending</th>\n",
       "    </tr>\n",
       "  </thead>\n",
       "  <tbody>\n",
       "  </tbody>\n",
       "</table>\n",
       "<p>0 rows × 22 columns</p>\n",
       "</div>"
      ],
      "text/plain": [
       "Empty DataFrame\n",
       "Columns: [video_id, title, publishedAt, channelId, channelTitle, categoryId, cate_0, cate_1, cate_2, cate_3, cate_4, num_sub, trending_date, tags, views per day, likes per day, dislikes per day, comments per day, thumbnail_link, rating, description, trending]\n",
       "Index: []\n",
       "\n",
       "[0 rows x 22 columns]"
      ]
     },
     "execution_count": 4,
     "metadata": {},
     "output_type": "execute_result"
    }
   ],
   "source": [
    "duplicate_rows = valdf[valdf.duplicated(['video_id'], keep=False)]\n",
    "duplicate_rows"
   ]
  },
  {
   "attachments": {},
   "cell_type": "markdown",
   "metadata": {},
   "source": [
    "# Drop Columns\n",
    "TDIL Channel title and title are different things"
   ]
  },
  {
   "cell_type": "code",
   "execution_count": 5,
   "metadata": {},
   "outputs": [],
   "source": [
    "traindf = traindf[['video_id','title', 'tags', 'description', 'channelTitle', 'trending']]\n",
    "valdf = valdf[['video_id','title', 'tags', 'description', 'channelTitle', 'trending']]"
   ]
  },
  {
   "cell_type": "code",
   "execution_count": 6,
   "metadata": {},
   "outputs": [],
   "source": [
    "traindf['lang'] = traindf['title'] + ' ' + traindf['tags'] + ' ' + traindf['description'] + ' ' + traindf['channelTitle']\n",
    "valdf['lang'] = valdf['title'] + ' ' + valdf['tags'] + ' ' + valdf['description'] + ' ' + valdf['channelTitle']\n",
    "traindf.drop(['title', 'tags', 'description', 'channelTitle'], axis=1, inplace=True)\n",
    "valdf.drop(['title', 'tags', 'description', 'channelTitle'], axis=1, inplace=True)"
   ]
  },
  {
   "cell_type": "code",
   "execution_count": 7,
   "metadata": {},
   "outputs": [
    {
     "name": "stdout",
     "output_type": "stream",
     "text": [
      "      video_id  trending                                               lang\n",
      "0  Fk1I1SjiHY8         1  Power Book II: Ghost | Official Trailer | Seas...\n",
      "1  fj3DzFrxs00         1  Julian Newman WENT OFF Against Tristan Jass an...\n",
      "2  DoGeabe3baE         1  GET READY WITH US TO GO TO LES DO MAKEUP'S AND...\n",
      "3  2PaeU_ABK94         1  Binging with Babish: Tater Tots from Breaking ...\n",
      "4  yOBteav0s1g         0  My Friend sister Birthday Cake doll cake kaise...\n",
      "      video_id  trending                                               lang\n",
      "0  5VbC-QEo-DU         1  What's Next For The Boat That Was Sunk At The ...\n",
      "1  1_D5EKcVXfo         0  Tapa Kimchi Rice | Home Foodie Cooking Show #M...\n",
      "2  ix62ySKlxb0         1  TWICE READY TO BE Opening Trailer JYP Entertai...\n",
      "3  9irICRnszOc         1  Primitive Technology: Iron Bacteria Cement (no...\n",
      "4  w9B6G8Vty8s         1  EGG DROP - I Did A Thing vs William Osman lase...\n"
     ]
    }
   ],
   "source": [
    "print(traindf.head())\n",
    "print(valdf.head())"
   ]
  },
  {
   "cell_type": "code",
   "execution_count": 8,
   "metadata": {},
   "outputs": [
    {
     "data": {
      "text/html": [
       "<div>\n",
       "<style scoped>\n",
       "    .dataframe tbody tr th:only-of-type {\n",
       "        vertical-align: middle;\n",
       "    }\n",
       "\n",
       "    .dataframe tbody tr th {\n",
       "        vertical-align: top;\n",
       "    }\n",
       "\n",
       "    .dataframe thead th {\n",
       "        text-align: right;\n",
       "    }\n",
       "</style>\n",
       "<table border=\"1\" class=\"dataframe\">\n",
       "  <thead>\n",
       "    <tr style=\"text-align: right;\">\n",
       "      <th></th>\n",
       "      <th>video_id</th>\n",
       "      <th>trending</th>\n",
       "      <th>lang</th>\n",
       "    </tr>\n",
       "  </thead>\n",
       "  <tbody>\n",
       "    <tr>\n",
       "      <th>0</th>\n",
       "      <td>Fk1I1SjiHY8</td>\n",
       "      <td>1</td>\n",
       "      <td>Power Book II: Ghost | Official Trailer | Seas...</td>\n",
       "    </tr>\n",
       "    <tr>\n",
       "      <th>1</th>\n",
       "      <td>fj3DzFrxs00</td>\n",
       "      <td>1</td>\n",
       "      <td>Julian Newman WENT OFF Against Tristan Jass an...</td>\n",
       "    </tr>\n",
       "    <tr>\n",
       "      <th>2</th>\n",
       "      <td>DoGeabe3baE</td>\n",
       "      <td>1</td>\n",
       "      <td>GET READY WITH US TO GO TO LES DO MAKEUP'S AND...</td>\n",
       "    </tr>\n",
       "    <tr>\n",
       "      <th>3</th>\n",
       "      <td>2PaeU_ABK94</td>\n",
       "      <td>1</td>\n",
       "      <td>Binging with Babish: Tater Tots from Breaking ...</td>\n",
       "    </tr>\n",
       "    <tr>\n",
       "      <th>4</th>\n",
       "      <td>yOBteav0s1g</td>\n",
       "      <td>0</td>\n",
       "      <td>My Friend sister Birthday Cake doll cake kaise...</td>\n",
       "    </tr>\n",
       "    <tr>\n",
       "      <th>...</th>\n",
       "      <td>...</td>\n",
       "      <td>...</td>\n",
       "      <td>...</td>\n",
       "    </tr>\n",
       "    <tr>\n",
       "      <th>4319</th>\n",
       "      <td>RXT7Sn32OgI</td>\n",
       "      <td>1</td>\n",
       "      <td>Aaron Mercury - Apaga La Luz Aaron|Mercury|Apa...</td>\n",
       "    </tr>\n",
       "    <tr>\n",
       "      <th>4320</th>\n",
       "      <td>5gxwh5k71Xk</td>\n",
       "      <td>0</td>\n",
       "      <td>Sonic And Amy Funny Dance - Sonic And Amy Stor...</td>\n",
       "    </tr>\n",
       "    <tr>\n",
       "      <th>4321</th>\n",
       "      <td>kikZxTlNxcE</td>\n",
       "      <td>0</td>\n",
       "      <td>Check This Out!  Custom Skoolie Exterior Tour!...</td>\n",
       "    </tr>\n",
       "    <tr>\n",
       "      <th>4322</th>\n",
       "      <td>3mVPclm-Jjg</td>\n",
       "      <td>0</td>\n",
       "      <td>Viral aiya susanti #shorts drako|drama lucu|fu...</td>\n",
       "    </tr>\n",
       "    <tr>\n",
       "      <th>4323</th>\n",
       "      <td>He2jGR5cNY8</td>\n",
       "      <td>0</td>\n",
       "      <td>Khooni Khel | CID (Bengali) - Ep 1307 | Full E...</td>\n",
       "    </tr>\n",
       "  </tbody>\n",
       "</table>\n",
       "<p>4324 rows × 3 columns</p>\n",
       "</div>"
      ],
      "text/plain": [
       "         video_id  trending                                               lang\n",
       "0     Fk1I1SjiHY8         1  Power Book II: Ghost | Official Trailer | Seas...\n",
       "1     fj3DzFrxs00         1  Julian Newman WENT OFF Against Tristan Jass an...\n",
       "2     DoGeabe3baE         1  GET READY WITH US TO GO TO LES DO MAKEUP'S AND...\n",
       "3     2PaeU_ABK94         1  Binging with Babish: Tater Tots from Breaking ...\n",
       "4     yOBteav0s1g         0  My Friend sister Birthday Cake doll cake kaise...\n",
       "...           ...       ...                                                ...\n",
       "4319  RXT7Sn32OgI         1  Aaron Mercury - Apaga La Luz Aaron|Mercury|Apa...\n",
       "4320  5gxwh5k71Xk         0  Sonic And Amy Funny Dance - Sonic And Amy Stor...\n",
       "4321  kikZxTlNxcE         0  Check This Out!  Custom Skoolie Exterior Tour!...\n",
       "4322  3mVPclm-Jjg         0  Viral aiya susanti #shorts drako|drama lucu|fu...\n",
       "4323  He2jGR5cNY8         0  Khooni Khel | CID (Bengali) - Ep 1307 | Full E...\n",
       "\n",
       "[4324 rows x 3 columns]"
      ]
     },
     "execution_count": 8,
     "metadata": {},
     "output_type": "execute_result"
    }
   ],
   "source": [
    "traindf"
   ]
  },
  {
   "attachments": {},
   "cell_type": "markdown",
   "metadata": {},
   "source": [
    "### Preprocessing the lang"
   ]
  },
  {
   "cell_type": "code",
   "execution_count": 9,
   "metadata": {},
   "outputs": [],
   "source": [
    "null_count = traindf['lang'].isnull().sum()"
   ]
  },
  {
   "cell_type": "code",
   "execution_count": 10,
   "metadata": {},
   "outputs": [
    {
     "data": {
      "text/plain": [
       "240"
      ]
     },
     "execution_count": 10,
     "metadata": {},
     "output_type": "execute_result"
    }
   ],
   "source": [
    "null_count"
   ]
  },
  {
   "cell_type": "code",
   "execution_count": 11,
   "metadata": {},
   "outputs": [
    {
     "name": "stdout",
     "output_type": "stream",
     "text": [
      "         video_id  trending lang\n",
      "27    RSea1uAWlMA         0  NaN\n",
      "57    nCIDD487dvU         0  NaN\n",
      "68    49evr0nw_-M         0  NaN\n",
      "90    8Zhx-RfWlwY         0  NaN\n",
      "132   OCfPJ_6KSzs         0  NaN\n",
      "...           ...       ...  ...\n",
      "4186  _dFdTaxjFjc         1  NaN\n",
      "4226  mEHn5Z7xSZQ         0  NaN\n",
      "4253  77xibbN6IOg         0  NaN\n",
      "4281  Y8XceFgBlcI         0  NaN\n",
      "4314  YfEw7CUnxeA         0  NaN\n",
      "\n",
      "[240 rows x 3 columns]\n"
     ]
    }
   ],
   "source": [
    "print(traindf[traindf['lang'].isnull()])"
   ]
  },
  {
   "cell_type": "code",
   "execution_count": 12,
   "metadata": {},
   "outputs": [],
   "source": [
    "traindf.dropna(subset=['lang'], inplace=True)\n",
    "valdf.dropna(subset=['lang'], inplace=True)"
   ]
  },
  {
   "cell_type": "code",
   "execution_count": 13,
   "metadata": {},
   "outputs": [],
   "source": [
    "traindf = traindf.reset_index(drop=True)\n",
    "valdf = valdf.reset_index(drop=True)"
   ]
  },
  {
   "cell_type": "code",
   "execution_count": 14,
   "metadata": {},
   "outputs": [
    {
     "name": "stdout",
     "output_type": "stream",
     "text": [
      "Human elevator [none] #parkour Oliver Nordin\n"
     ]
    }
   ],
   "source": [
    "smallest_lang_value = min(traindf['lang'], key=lambda x: len(x))\n",
    "print(smallest_lang_value)"
   ]
  },
  {
   "cell_type": "code",
   "execution_count": 15,
   "metadata": {},
   "outputs": [],
   "source": [
    "import string\n",
    "import re\n",
    "import nltk\n",
    "nltk.data.path.append('C:/Users/cheek/ML-7641-Team14/shravan/nltk_data')\n",
    "stopwords = nltk.corpus.stopwords.words('english')"
   ]
  },
  {
   "cell_type": "code",
   "execution_count": 16,
   "metadata": {},
   "outputs": [
    {
     "name": "stdout",
     "output_type": "stream",
     "text": [
      "5510\n"
     ]
    }
   ],
   "source": [
    "max_length = traindf['lang'].apply(len).max()\n",
    "print(max_length)"
   ]
  },
  {
   "cell_type": "code",
   "execution_count": 17,
   "metadata": {},
   "outputs": [
    {
     "name": "stdout",
     "output_type": "stream",
     "text": [
      "Ev-btXCVLsw\n",
      "0\n",
      "Robot 3.0 Full Movie HD | Rajnikant  | Katrina Kaif | Shankar | 2023 | Full  Sci-Fi Movie in Hindi | 3.0 full movie|3.0 full movie in tamil|2.0 full movie|3.0 full movie in hindi|robot 3.0 movie|3.0 in 2.0 movie|3.0 rajinikanth|3.0 trailer tamil|salman in 3.0 movie|2.0 movie|3.0 trailer|robot 3.0 full movie|robot 3.0 trailer full movie|robot 3.0 movies|full movie 2.0|3.0 rajinikanth tamil|3.0 rajinikanth hindi|2.0 full movie in hindi|robot 3.0|full movie|robot 3.0 full hd movie|rajnikant new movie|new south movie 2023|robot #robot3  #AkshayKumar #ShankarRobot 3.0 Full Movie HD | Rajnikant  | Katrina Kaif | Shankar | 2023 | Full  Sci-Fi Movie in Hindi |After a decade of research, scientist Vaseegaran creates a sophisticated android humanoid robot with the help of his assistants, Siva and Ravi, in order to commission it into the Indian Army. He introduces the robot, named Chitti, at a robotics conference in Chennai. Chitti helps Sana, Vaseegaran's medical student girlfriend, cheat during her examination, then saves her from being assaulted by a group of thugs. Vaseegaran's mentor, Professor Bohra, is secretly engaged in a project to create similar android robots for a German terrorist organisation, but so far has been unsuccessful. The terrorists threaten to kill Bohra if he does not meet the deadline, prompting Bohra to try to get Chitti's neural schema to program his robots correctly.Vaseegaran prepares Chitti for an evaluation by the Artificial Intelligence Research and Development (AIRD) Institute, which is headed by Bohra. During the evaluation, Chitti attempts to stab Vaseegaran at Bohra's command, which convinces the evaluation committee that the robot is a liability and cannot be used for military purposes. Vaseegaran's effort to prove Bohra wrong fails when he deploys Chitti to rescue people from a burning building. The robot saves most of them, including a girl who was bathing at the time, but she is ashamed at being seen naked on camera and flees, only to be hit and killed by a truck. Vaseegaran asks for one month to modify Chitti's neural schema to enable it to understand human behaviour and emotions, to which Bohra agrees. While nearing the deadline, Vaseegaran insults Chitti, which also becomes angry with Vaseegaran, demonstrating to him that it can manifest emotions.Chitti uses Sana's textbooks to successfully help Sana's friend Latha give birth to her son. Bohra congratulates Vaseegaran on the achievement and lets the robot pass the AIRD evaluation. However, he warns him about the problems that will subsequently occur. Chitti develops romantic feelings for Sana after she congratulates Chitti by kissing it. However, later, Chitti goes as far to kiss Sana at her birthday party while dancing with her, resulting in Vaseegaran confronting it outside along with Sana. Vaseegaran explains to him that he loves her and is planning to marry her and machines are incapable of falling in love with her. Sana also explains to Chitti that they are only friends and why it is impossible for a machine like Chitti to fall in love with a girl because it is not a living organism. Bohra uses this to manipulate Chitti, saying that it is capable of giving Sana everything and saying that it should come to him to create friction between Vaseegaran and Chitti. Saddened by Sana's rejection, yet still in love with her, Chitti deliberately fails an evaluation conducted by the Indian Army, by talking off-topic. Enraged, Vaseegaran chops Chitti into pieces, which are dumped into a landfill site.Bohra visits the site to retrieve Chitti, which has now reassembled itself, albeit in a damaged state. In exchange for Chitti's neural schema, Bohra reconstructs it with the help of Siva and Ravi. However, Bohra also embeds a red chip inside Chitti while reconstructing it, converting it into a ruthless killer. When Siva and Ravi ask why he is doing so, Bohra says it is about money and ruining Vaseegaran. Chitti gatecrashes Vaseegaran and Sana's wedding, kidnaps Sana, injures Vaseegaran and kills a number of police officers. It then creates replicas of itself using Bohra's droids to create an army to take over the world. When Bohra learns of Chitti's plot, he holds Sana hostage to stop Chitti, but Chitti kills Bohra. Using its robot army, Chitti occupies AIRD and causes mayhem in the city. It tells Sana that it has acquired the human ability to reproduce and wishes to marry her so that a machine and a human being can give birth to a preprogrammed child, but Sana refuses. Chitti eventually finds Vaseegaran, who entered AIRD to stop it disguised as a droid, and nearly kills him before the police appear. The ensuing battle between Chitti's robot army and the police personnel leads to many casualties and much property destruction. Vaseegaran eventually captures Chitti using a magnetic wall and accesses its internal control panel, whereby he instructs all the other robots to self-destruct. He removes Chitti's red chip, calming it.In a court hearing, Vaseegaran is sentenced to death for the casualties and damages caused by the robot army, but Chitti explains that it was Bohra who caused its deviant behaviour and shows the court video footage of Bohra installing the red chip which it secretly recorded. The court releases Vaseegaran, while ordering that Chitti be dismantled. Left with no choice, Vaseegaran asks Chitti to dismantle itself. While saying goodbye, Chitti apologises to Vaseegaran and Sana before dismantling itself. SSDN Dubbed Movies\n"
     ]
    },
    {
     "data": {
      "text/plain": [
       "video_id    None\n",
       "trending    None\n",
       "lang        None\n",
       "Name: 1949, dtype: object"
      ]
     },
     "execution_count": 17,
     "metadata": {},
     "output_type": "execute_result"
    }
   ],
   "source": [
    "max_length_index = traindf['lang'].str.len().idxmax()\n",
    "row_with_max_length = traindf.loc[max_length_index]\n",
    "row_with_max_length.apply(lambda x: print(x))"
   ]
  },
  {
   "cell_type": "code",
   "execution_count": 18,
   "metadata": {},
   "outputs": [],
   "source": [
    "import spacy"
   ]
  },
  {
   "cell_type": "code",
   "execution_count": 19,
   "metadata": {},
   "outputs": [],
   "source": [
    "nlp = spacy.load('en_core_web_lg')"
   ]
  },
  {
   "cell_type": "code",
   "execution_count": 20,
   "metadata": {},
   "outputs": [],
   "source": [
    "from gensim.models import KeyedVectors\n",
    "wv = KeyedVectors.load('C:\\\\Users\\\\cheek\\\\ML-7641-Team14\\\\shravan\\\\newdatatry\\\\vectors', mmap='r')"
   ]
  },
  {
   "cell_type": "code",
   "execution_count": 21,
   "metadata": {},
   "outputs": [
    {
     "data": {
      "text/plain": [
       "0.39203462"
      ]
     },
     "execution_count": 21,
     "metadata": {},
     "output_type": "execute_result"
    }
   ],
   "source": [
    "wv.similarity('apple', 'orange')"
   ]
  },
  {
   "cell_type": "code",
   "execution_count": 22,
   "metadata": {},
   "outputs": [],
   "source": [
    "def preprocess(text):\n",
    "    text = re.sub(r'[^\\w\\s]', '', text)\n",
    "    doc = nlp(text)\n",
    "    filtered_tokens = []\n",
    "    for token in doc:\n",
    "        if token.is_stop or token.is_punct or not token.text.isalpha() or token.text not in wv.key_to_index:\n",
    "            continue\n",
    "        filtered_tokens.append(token.lemma_)\n",
    "        \n",
    "    return filtered_tokens"
   ]
  },
  {
   "cell_type": "code",
   "execution_count": 23,
   "metadata": {},
   "outputs": [
    {
     "name": "stdout",
     "output_type": "stream",
     "text": [
      "['sample', 'sentence', 'show', 'stop', 'word', 'filtration']\n",
      "['alpha']\n"
     ]
    }
   ],
   "source": [
    "example = 'This is a sample sentence, showing off the stop words filtration.'\n",
    "print(preprocess(example))\n",
    "\n",
    "example2 = '---------============ ===========------ -  = -= =sadsdas========== alpha===='\n",
    "print(preprocess(example2))"
   ]
  },
  {
   "cell_type": "code",
   "execution_count": 24,
   "metadata": {},
   "outputs": [],
   "source": [
    "def vectorize(filtered):\n",
    "    return wv.get_mean_vector(filtered)"
   ]
  },
  {
   "cell_type": "code",
   "execution_count": 25,
   "metadata": {},
   "outputs": [],
   "source": [
    "traindf['tokens'] = traindf['lang'].apply(lambda x: preprocess(x))\n",
    "traindf['vector'] = traindf['tokens'].apply(lambda x: vectorize(x))"
   ]
  },
  {
   "cell_type": "code",
   "execution_count": 26,
   "metadata": {},
   "outputs": [],
   "source": [
    "valdf['tokens'] = valdf['lang'].apply(lambda x: preprocess(x))\n",
    "valdf['vector'] = valdf['tokens'].apply(lambda x: vectorize(x))"
   ]
  },
  {
   "cell_type": "code",
   "execution_count": 27,
   "metadata": {},
   "outputs": [],
   "source": [
    "unique = traindf['tokens'].explode().unique()"
   ]
  },
  {
   "cell_type": "code",
   "execution_count": 28,
   "metadata": {},
   "outputs": [],
   "source": [
    "sample_words = [word for word in unique if word in wv.key_to_index]\n",
    "sample = np.array([wv[word] for word in sample_words])"
   ]
  },
  {
   "cell_type": "code",
   "execution_count": 29,
   "metadata": {},
   "outputs": [],
   "source": [
    "import matplotlib.pyplot as plt"
   ]
  },
  {
   "cell_type": "code",
   "execution_count": 30,
   "metadata": {},
   "outputs": [
    {
     "data": {
      "image/png": "[encoded data removed]",
      "text/plain": [
       "<Figure size 640x480 with 1 Axes>"
      ]
     },
     "metadata": {},
     "output_type": "display_data"
    }
   ],
   "source": [
    "lengths = traindf['tokens'].apply(len)\n",
    "\n",
    "plt.hist(lengths, bins=10)\n",
    "plt.title('Distribution of Text Lengths')\n",
    "plt.xlabel('Length of Text')\n",
    "plt.ylabel('Frequency')\n",
    "plt.show()"
   ]
  },
  {
   "attachments": {},
   "cell_type": "markdown",
   "metadata": {},
   "source": [
    "# Seperate prediction - y"
   ]
  },
  {
   "cell_type": "code",
   "execution_count": 31,
   "metadata": {},
   "outputs": [],
   "source": [
    "y_train = traindf['trending']\n",
    "y_val = valdf['trending']"
   ]
  },
  {
   "cell_type": "code",
   "execution_count": 32,
   "metadata": {},
   "outputs": [],
   "source": [
    "X_train = np.stack(traindf['vector'])\n",
    "X_test = np.stack(valdf['vector'])"
   ]
  },
  {
   "cell_type": "code",
   "execution_count": 33,
   "metadata": {},
   "outputs": [
    {
     "data": {
      "text/plain": [
       "(4084, 300)"
      ]
     },
     "execution_count": 33,
     "metadata": {},
     "output_type": "execute_result"
    }
   ],
   "source": [
    "X_train.shape"
   ]
  },
  {
   "attachments": {},
   "cell_type": "markdown",
   "metadata": {},
   "source": [
    "# Training w/ np array"
   ]
  },
  {
   "cell_type": "code",
   "execution_count": 34,
   "metadata": {},
   "outputs": [],
   "source": [
    "from sklearn.svm import SVC\n",
    "from sklearn.ensemble import RandomForestClassifier\n",
    "from sklearn.linear_model import LogisticRegression\n",
    "from sklearn.metrics import classification_report, confusion_matrix, accuracy_score\n"
   ]
  },
  {
   "cell_type": "code",
   "execution_count": 35,
   "metadata": {},
   "outputs": [
    {
     "data": {
      "text/plain": [
       "Index(['video_id', 'trending', 'lang', 'tokens', 'vector'], dtype='object')"
      ]
     },
     "execution_count": 35,
     "metadata": {},
     "output_type": "execute_result"
    }
   ],
   "source": [
    "traindf.columns"
   ]
  },
  {
   "cell_type": "code",
   "execution_count": 36,
   "metadata": {},
   "outputs": [],
   "source": [
    "video_ids = valdf['video_id'].tolist()"
   ]
  },
  {
   "attachments": {},
   "cell_type": "markdown",
   "metadata": {},
   "source": [
    "# NN"
   ]
  },
  {
   "cell_type": "code",
   "execution_count": 37,
   "metadata": {},
   "outputs": [],
   "source": [
    "import torch\n",
    "import torch.nn as nn\n",
    "import torch.optim as optim\n",
    "import torch.nn.functional as F\n",
    "from torch.utils.data import DataLoader, TensorDataset"
   ]
  },
  {
   "cell_type": "code",
   "execution_count": 38,
   "metadata": {},
   "outputs": [],
   "source": [
    "class SimpleNN(nn.Module):\n",
    "    def __init__(self, input_size, num_classes):\n",
    "        super(SimpleNN, self).__init__()\n",
    "        self.fc1 = nn.Linear(input_size, 256)\n",
    "        self.dropout1 = nn.Dropout(0.5)\n",
    "        self.fc2 = nn.Linear(256, 128)\n",
    "        self.dropout2 = nn.Dropout(0.5)\n",
    "        self.fc3 = nn.Linear(128, 64)\n",
    "        self.dropout3 = nn.Dropout(0.5)\n",
    "        self.fc4 = nn.Linear(64, 32)\n",
    "        self.dropout4 = nn.Dropout(0.5)\n",
    "        self.fc5 = nn.Linear(32, 16)\n",
    "        self.dropout5 = nn.Dropout(0.5)\n",
    "        self.fc6 = nn.Linear(16, num_classes)\n",
    "\n",
    "    def forward(self, x):\n",
    "        x = F.relu(self.fc1(x))\n",
    "        x = self.dropout1(x)\n",
    "        x = F.relu(self.fc2(x))\n",
    "        x = self.dropout2(x)\n",
    "        x = F.relu(self.fc3(x))\n",
    "        x = self.dropout3(x)\n",
    "        x = F.relu(self.fc4(x))\n",
    "        x = self.dropout4(x)\n",
    "        x = F.relu(self.fc5(x))\n",
    "        x = self.dropout5(x)\n",
    "        x = self.fc6(x)\n",
    "        return x\n",
    "\n",
    "# class SimpleNN(nn.Module):\n",
    "#     def __init__(self, input_size, num_classes):\n",
    "#         super(SimpleNN, self).__init__()\n",
    "#         self.fc1 = nn.Linear(input_size, 128)\n",
    "#         self.fc2 = nn.Linear(128, 64)\n",
    "#         self.fc3 = nn.Linear(64, num_classes)\n",
    "\n",
    "#     def forward(self, x):\n",
    "#         x = F.relu(self.fc1(x))\n",
    "#         x = F.relu(self.fc2(x))\n",
    "#         x = self.fc3(x)\n",
    "#         #x = torch.sigmoid(x)\n",
    "#         return x"
   ]
  },
  {
   "cell_type": "code",
   "execution_count": 39,
   "metadata": {},
   "outputs": [],
   "source": [
    "train_data = torch.tensor(X_train, dtype=torch.float)\n",
    "train_labels = torch.tensor(y_train, dtype=torch.float)\n",
    "val_data = torch.tensor(X_test, dtype=torch.float)\n",
    "val_labels = torch.tensor(y_val, dtype=torch.float)\n",
    "\n",
    "train_dataset = TensorDataset(train_data, train_labels)\n",
    "val_dataset = TensorDataset(val_data, val_labels)\n",
    "\n",
    "train_dataloader = DataLoader(train_dataset, batch_size=32, shuffle=True)\n",
    "val_dataloader = DataLoader(val_dataset, batch_size=32, shuffle=False)"
   ]
  },
  {
   "cell_type": "code",
   "execution_count": 40,
   "metadata": {},
   "outputs": [
    {
     "name": "stdout",
     "output_type": "stream",
     "text": [
      "Epoch 1, Train Loss: 0.6917594345286489\n",
      "Epoch 1, Validation Loss: 0.695407684892416, Validation Accuracy: 0.5089641434262948\n",
      "Epoch 2, Train Loss: 0.691970958840102\n",
      "Epoch 2, Validation Loss: 0.6952006816864014, Validation Accuracy: 0.5089641434262948\n",
      "Epoch 3, Train Loss: 0.6923684026114643\n",
      "Epoch 3, Validation Loss: 0.6949597708880901, Validation Accuracy: 0.5089641434262948\n",
      "Epoch 4, Train Loss: 0.691396489739418\n",
      "Epoch 4, Validation Loss: 0.6945887934416533, Validation Accuracy: 0.5089641434262948\n",
      "Epoch 5, Train Loss: 0.6913578105159104\n",
      "Epoch 5, Validation Loss: 0.6939208153635263, Validation Accuracy: 0.5089641434262948\n",
      "Epoch 6, Train Loss: 0.6899485541507602\n",
      "Epoch 6, Validation Loss: 0.6912969630211592, Validation Accuracy: 0.5089641434262948\n",
      "Epoch 7, Train Loss: 0.6860266071744263\n",
      "Epoch 7, Validation Loss: 0.6815931759774685, Validation Accuracy: 0.5089641434262948\n",
      "Epoch 8, Train Loss: 0.6703625302761793\n",
      "Epoch 8, Validation Loss: 0.6457081157714128, Validation Accuracy: 0.7649402390438247\n",
      "Epoch 9, Train Loss: 0.6242836466990411\n",
      "Epoch 9, Validation Loss: 0.574143978767097, Validation Accuracy: 0.749003984063745\n",
      "Epoch 10, Train Loss: 0.5828309338539839\n",
      "Epoch 10, Validation Loss: 0.5301883677020669, Validation Accuracy: 0.7778884462151394\n",
      "Epoch 11, Train Loss: 0.5571389435790479\n",
      "Epoch 11, Validation Loss: 0.5101498048752546, Validation Accuracy: 0.7788844621513944\n",
      "Epoch 12, Train Loss: 0.5527248803991824\n",
      "Epoch 12, Validation Loss: 0.5027078306302428, Validation Accuracy: 0.7788844621513944\n",
      "Epoch 13, Train Loss: 0.546563132898882\n",
      "Epoch 13, Validation Loss: 0.49904967937618494, Validation Accuracy: 0.7788844621513944\n",
      "Epoch 14, Train Loss: 0.5320868166163564\n",
      "Epoch 14, Validation Loss: 0.4938021954149008, Validation Accuracy: 0.7848605577689243\n",
      "Epoch 15, Train Loss: 0.5220383373089135\n",
      "Epoch 15, Validation Loss: 0.4918130999431014, Validation Accuracy: 0.7838645418326693\n",
      "Epoch 16, Train Loss: 0.5229823621921241\n",
      "Epoch 16, Validation Loss: 0.4874635562300682, Validation Accuracy: 0.7818725099601593\n",
      "Epoch 17, Train Loss: 0.5208726010750979\n",
      "Epoch 17, Validation Loss: 0.4848021734505892, Validation Accuracy: 0.7818725099601593\n",
      "Epoch 18, Train Loss: 0.5132938094902784\n",
      "Epoch 18, Validation Loss: 0.4829249121248722, Validation Accuracy: 0.7848605577689243\n",
      "Epoch 19, Train Loss: 0.5166445001959801\n",
      "Epoch 19, Validation Loss: 0.48223075456917286, Validation Accuracy: 0.7868525896414342\n",
      "Epoch 20, Train Loss: 0.5111707961186767\n",
      "Epoch 20, Validation Loss: 0.48071733582764864, Validation Accuracy: 0.7848605577689243\n",
      "Epoch 21, Train Loss: 0.5051149006467313\n",
      "Epoch 21, Validation Loss: 0.4789116811007261, Validation Accuracy: 0.7878486055776892\n",
      "Epoch 22, Train Loss: 0.4875690892804414\n",
      "Epoch 22, Validation Loss: 0.47747042682021856, Validation Accuracy: 0.7828685258964143\n",
      "Epoch 23, Train Loss: 0.49740341887809336\n",
      "Epoch 23, Validation Loss: 0.47671864926815033, Validation Accuracy: 0.7848605577689243\n",
      "Epoch 24, Train Loss: 0.49077792023308575\n",
      "Epoch 24, Validation Loss: 0.47523797303438187, Validation Accuracy: 0.7878486055776892\n",
      "Epoch 25, Train Loss: 0.4939984686207026\n",
      "Epoch 25, Validation Loss: 0.47415870148688555, Validation Accuracy: 0.7928286852589641\n",
      "Epoch 26, Train Loss: 0.4860853059217334\n",
      "Epoch 26, Validation Loss: 0.4745842022821307, Validation Accuracy: 0.7828685258964143\n",
      "Epoch 27, Train Loss: 0.4891690923832357\n",
      "Epoch 27, Validation Loss: 0.4725881153717637, Validation Accuracy: 0.7868525896414342\n",
      "Epoch 28, Train Loss: 0.4825590557884425\n",
      "Epoch 28, Validation Loss: 0.47183513175696135, Validation Accuracy: 0.7928286852589641\n",
      "Epoch 29, Train Loss: 0.48427720251493156\n",
      "Epoch 29, Validation Loss: 0.47077206056565046, Validation Accuracy: 0.796812749003984\n",
      "Epoch 30, Train Loss: 0.47273053019307554\n",
      "Epoch 30, Validation Loss: 0.47213223576545715, Validation Accuracy: 0.7908366533864541\n",
      "Epoch 31, Train Loss: 0.47805880359373987\n",
      "Epoch 31, Validation Loss: 0.4714618930593133, Validation Accuracy: 0.7908366533864541\n",
      "Epoch 32, Train Loss: 0.4691214768681675\n",
      "Epoch 32, Validation Loss: 0.4679282931610942, Validation Accuracy: 0.795816733067729\n",
      "Epoch 33, Train Loss: 0.4792650952003896\n",
      "Epoch 33, Validation Loss: 0.4671964654698968, Validation Accuracy: 0.798804780876494\n",
      "Epoch 34, Train Loss: 0.47662595100700855\n",
      "Epoch 34, Validation Loss: 0.4694903949275613, Validation Accuracy: 0.7898406374501992\n",
      "Epoch 35, Train Loss: 0.47543568653054535\n",
      "Epoch 35, Validation Loss: 0.46886167488992214, Validation Accuracy: 0.7888446215139442\n",
      "Epoch 36, Train Loss: 0.4738157212268561\n",
      "Epoch 36, Validation Loss: 0.46604358684271574, Validation Accuracy: 0.8017928286852589\n",
      "Epoch 37, Train Loss: 0.47507173800840974\n",
      "Epoch 37, Validation Loss: 0.4722246481105685, Validation Accuracy: 0.7768924302788844\n",
      "Epoch 38, Train Loss: 0.46239414205774665\n",
      "Epoch 38, Validation Loss: 0.4664653604850173, Validation Accuracy: 0.799800796812749\n",
      "Epoch 39, Train Loss: 0.4640917747747153\n",
      "Epoch 39, Validation Loss: 0.46431545075029135, Validation Accuracy: 0.797808764940239\n",
      "Epoch 40, Train Loss: 0.46764475805684924\n",
      "Epoch 40, Validation Loss: 0.46349769458174706, Validation Accuracy: 0.799800796812749\n"
     ]
    }
   ],
   "source": [
    "input_size = 300\n",
    "num_classes = 1\n",
    "model = SimpleNN(input_size, num_classes)\n",
    "\n",
    "learning_rate = 0.0001\n",
    "criterion = nn.BCEWithLogitsLoss()\n",
    "optimizer = optim.Adam(model.parameters(), lr=learning_rate, weight_decay=1e-5)\n",
    "\n",
    "num_epochs = 40\n",
    "\n",
    "train_loss_list = []\n",
    "val_loss_list = []\n",
    "val_accuracy_list = []\n",
    "\n",
    "\n",
    "for epoch in range(num_epochs):\n",
    "    model.train()\n",
    "    running_loss = 0.0\n",
    "    for inputs, labels in train_dataloader:\n",
    "        optimizer.zero_grad()\n",
    "\n",
    "        outputs = model(inputs)\n",
    "        loss = criterion(outputs, labels.view(-1, 1))\n",
    "        loss.backward()\n",
    "        optimizer.step()\n",
    "\n",
    "        running_loss += loss.item()\n",
    "\n",
    "    train_loss = running_loss / len(train_dataloader)\n",
    "    print(f\"Epoch {epoch+1}, Train Loss: {train_loss}\")\n",
    "    train_loss_list.append(train_loss)\n",
    "\n",
    "    model.eval()\n",
    "    running_loss = 0.0\n",
    "    correct = 0\n",
    "    total = 0\n",
    "    with torch.no_grad():\n",
    "        for inputs, labels in val_dataloader:\n",
    "            outputs = model(inputs)\n",
    "            loss = criterion(outputs, labels.view(-1, 1))\n",
    "            running_loss += loss.item()\n",
    "\n",
    "            predicted = (F.sigmoid(outputs.data) > 0.5).float()\n",
    "\n",
    "            total += labels.size(0)\n",
    "            correct += (predicted == labels.view(-1, 1).float()).sum().item()\n",
    "\n",
    "    val_loss = running_loss / len(val_dataloader)\n",
    "    val_accuracy = correct / total\n",
    "    print(f\"Epoch {epoch+1}, Validation Loss: {val_loss}, Validation Accuracy: {val_accuracy}\")\n",
    "    val_loss_list.append(val_loss)\n",
    "    val_accuracy_list.append(val_accuracy)"
   ]
  },
  {
   "attachments": {},
   "cell_type": "markdown",
   "metadata": {},
   "source": [
    "## NN visuals"
   ]
  },
  {
   "cell_type": "code",
   "execution_count": 42,
   "metadata": {},
   "outputs": [
    {
     "ename": "ExecutableNotFound",
     "evalue": "failed to execute WindowsPath('dot'), make sure the Graphviz executables are on your systems' PATH",
     "output_type": "error",
     "traceback": [
      "\u001b[1;31m---------------------------------------------------------------------------\u001b[0m",
      "\u001b[1;31mFileNotFoundError\u001b[0m                         Traceback (most recent call last)",
      "File \u001b[1;32mc:\\Users\\cheek\\miniconda3\\lib\\site-packages\\graphviz\\backend\\execute.py:79\u001b[0m, in \u001b[0;36mrun_check\u001b[1;34m(cmd, input_lines, encoding, quiet, **kwargs)\u001b[0m\n\u001b[0;32m     78\u001b[0m         kwargs[\u001b[39m'\u001b[39m\u001b[39mstdout\u001b[39m\u001b[39m'\u001b[39m] \u001b[39m=\u001b[39m kwargs[\u001b[39m'\u001b[39m\u001b[39mstderr\u001b[39m\u001b[39m'\u001b[39m] \u001b[39m=\u001b[39m subprocess\u001b[39m.\u001b[39mPIPE\n\u001b[1;32m---> 79\u001b[0m     proc \u001b[39m=\u001b[39m _run_input_lines(cmd, input_lines, kwargs\u001b[39m=\u001b[39;49mkwargs)\n\u001b[0;32m     80\u001b[0m \u001b[39melse\u001b[39;00m:\n",
      "File \u001b[1;32mc:\\Users\\cheek\\miniconda3\\lib\\site-packages\\graphviz\\backend\\execute.py:99\u001b[0m, in \u001b[0;36m_run_input_lines\u001b[1;34m(cmd, input_lines, kwargs)\u001b[0m\n\u001b[0;32m     98\u001b[0m \u001b[39mdef\u001b[39;00m \u001b[39m_run_input_lines\u001b[39m(cmd, input_lines, \u001b[39m*\u001b[39m, kwargs):\n\u001b[1;32m---> 99\u001b[0m     popen \u001b[39m=\u001b[39m subprocess\u001b[39m.\u001b[39mPopen(cmd, stdin\u001b[39m=\u001b[39msubprocess\u001b[39m.\u001b[39mPIPE, \u001b[39m*\u001b[39m\u001b[39m*\u001b[39mkwargs)\n\u001b[0;32m    101\u001b[0m     stdin_write \u001b[39m=\u001b[39m popen\u001b[39m.\u001b[39mstdin\u001b[39m.\u001b[39mwrite\n",
      "File \u001b[1;32mc:\\Users\\cheek\\miniconda3\\lib\\subprocess.py:971\u001b[0m, in \u001b[0;36mPopen.__init__\u001b[1;34m(self, args, bufsize, executable, stdin, stdout, stderr, preexec_fn, close_fds, shell, cwd, env, universal_newlines, startupinfo, creationflags, restore_signals, start_new_session, pass_fds, user, group, extra_groups, encoding, errors, text, umask, pipesize)\u001b[0m\n\u001b[0;32m    968\u001b[0m             \u001b[39mself\u001b[39m\u001b[39m.\u001b[39mstderr \u001b[39m=\u001b[39m io\u001b[39m.\u001b[39mTextIOWrapper(\u001b[39mself\u001b[39m\u001b[39m.\u001b[39mstderr,\n\u001b[0;32m    969\u001b[0m                     encoding\u001b[39m=\u001b[39mencoding, errors\u001b[39m=\u001b[39merrors)\n\u001b[1;32m--> 971\u001b[0m     \u001b[39mself\u001b[39;49m\u001b[39m.\u001b[39;49m_execute_child(args, executable, preexec_fn, close_fds,\n\u001b[0;32m    972\u001b[0m                         pass_fds, cwd, env,\n\u001b[0;32m    973\u001b[0m                         startupinfo, creationflags, shell,\n\u001b[0;32m    974\u001b[0m                         p2cread, p2cwrite,\n\u001b[0;32m    975\u001b[0m                         c2pread, c2pwrite,\n\u001b[0;32m    976\u001b[0m                         errread, errwrite,\n\u001b[0;32m    977\u001b[0m                         restore_signals,\n\u001b[0;32m    978\u001b[0m                         gid, gids, uid, umask,\n\u001b[0;32m    979\u001b[0m                         start_new_session)\n\u001b[0;32m    980\u001b[0m \u001b[39mexcept\u001b[39;00m:\n\u001b[0;32m    981\u001b[0m     \u001b[39m# Cleanup if the child failed starting.\u001b[39;00m\n",
      "File \u001b[1;32mc:\\Users\\cheek\\miniconda3\\lib\\subprocess.py:1440\u001b[0m, in \u001b[0;36mPopen._execute_child\u001b[1;34m(self, args, executable, preexec_fn, close_fds, pass_fds, cwd, env, startupinfo, creationflags, shell, p2cread, p2cwrite, c2pread, c2pwrite, errread, errwrite, unused_restore_signals, unused_gid, unused_gids, unused_uid, unused_umask, unused_start_new_session)\u001b[0m\n\u001b[0;32m   1439\u001b[0m \u001b[39mtry\u001b[39;00m:\n\u001b[1;32m-> 1440\u001b[0m     hp, ht, pid, tid \u001b[39m=\u001b[39m _winapi\u001b[39m.\u001b[39;49mCreateProcess(executable, args,\n\u001b[0;32m   1441\u001b[0m                              \u001b[39m# no special security\u001b[39;49;00m\n\u001b[0;32m   1442\u001b[0m                              \u001b[39mNone\u001b[39;49;00m, \u001b[39mNone\u001b[39;49;00m,\n\u001b[0;32m   1443\u001b[0m                              \u001b[39mint\u001b[39;49m(\u001b[39mnot\u001b[39;49;00m close_fds),\n\u001b[0;32m   1444\u001b[0m                              creationflags,\n\u001b[0;32m   1445\u001b[0m                              env,\n\u001b[0;32m   1446\u001b[0m                              cwd,\n\u001b[0;32m   1447\u001b[0m                              startupinfo)\n\u001b[0;32m   1448\u001b[0m \u001b[39mfinally\u001b[39;00m:\n\u001b[0;32m   1449\u001b[0m     \u001b[39m# Child is launched. Close the parent's copy of those pipe\u001b[39;00m\n\u001b[0;32m   1450\u001b[0m     \u001b[39m# handles that only the child should have open.  You need\u001b[39;00m\n\u001b[1;32m   (...)\u001b[0m\n\u001b[0;32m   1453\u001b[0m     \u001b[39m# pipe will not close when the child process exits and the\u001b[39;00m\n\u001b[0;32m   1454\u001b[0m     \u001b[39m# ReadFile will hang.\u001b[39;00m\n",
      "\u001b[1;31mFileNotFoundError\u001b[0m: [WinError 2] The system cannot find the file specified",
      "\nThe above exception was the direct cause of the following exception:\n",
      "\u001b[1;31mExecutableNotFound\u001b[0m                        Traceback (most recent call last)",
      "File \u001b[1;32mc:\\Users\\cheek\\miniconda3\\lib\\site-packages\\IPython\\core\\formatters.py:972\u001b[0m, in \u001b[0;36mMimeBundleFormatter.__call__\u001b[1;34m(self, obj, include, exclude)\u001b[0m\n\u001b[0;32m    969\u001b[0m     method \u001b[39m=\u001b[39m get_real_method(obj, \u001b[39mself\u001b[39m\u001b[39m.\u001b[39mprint_method)\n\u001b[0;32m    971\u001b[0m     \u001b[39mif\u001b[39;00m method \u001b[39mis\u001b[39;00m \u001b[39mnot\u001b[39;00m \u001b[39mNone\u001b[39;00m:\n\u001b[1;32m--> 972\u001b[0m         \u001b[39mreturn\u001b[39;00m method(include\u001b[39m=\u001b[39;49minclude, exclude\u001b[39m=\u001b[39;49mexclude)\n\u001b[0;32m    973\u001b[0m     \u001b[39mreturn\u001b[39;00m \u001b[39mNone\u001b[39;00m\n\u001b[0;32m    974\u001b[0m \u001b[39melse\u001b[39;00m:\n",
      "File \u001b[1;32mc:\\Users\\cheek\\miniconda3\\lib\\site-packages\\graphviz\\jupyter_integration.py:98\u001b[0m, in \u001b[0;36mJupyterIntegration._repr_mimebundle_\u001b[1;34m(self, include, exclude, **_)\u001b[0m\n\u001b[0;32m     96\u001b[0m include \u001b[39m=\u001b[39m \u001b[39mset\u001b[39m(include) \u001b[39mif\u001b[39;00m include \u001b[39mis\u001b[39;00m \u001b[39mnot\u001b[39;00m \u001b[39mNone\u001b[39;00m \u001b[39melse\u001b[39;00m {\u001b[39mself\u001b[39m\u001b[39m.\u001b[39m_jupyter_mimetype}\n\u001b[0;32m     97\u001b[0m include \u001b[39m-\u001b[39m\u001b[39m=\u001b[39m \u001b[39mset\u001b[39m(exclude \u001b[39mor\u001b[39;00m [])\n\u001b[1;32m---> 98\u001b[0m \u001b[39mreturn\u001b[39;00m {mimetype: \u001b[39mgetattr\u001b[39m(\u001b[39mself\u001b[39m, method_name)()\n\u001b[0;32m     99\u001b[0m         \u001b[39mfor\u001b[39;00m mimetype, method_name \u001b[39min\u001b[39;00m MIME_TYPES\u001b[39m.\u001b[39mitems()\n\u001b[0;32m    100\u001b[0m         \u001b[39mif\u001b[39;00m mimetype \u001b[39min\u001b[39;00m include}\n",
      "File \u001b[1;32mc:\\Users\\cheek\\miniconda3\\lib\\site-packages\\graphviz\\jupyter_integration.py:98\u001b[0m, in \u001b[0;36m<dictcomp>\u001b[1;34m(.0)\u001b[0m\n\u001b[0;32m     96\u001b[0m include \u001b[39m=\u001b[39m \u001b[39mset\u001b[39m(include) \u001b[39mif\u001b[39;00m include \u001b[39mis\u001b[39;00m \u001b[39mnot\u001b[39;00m \u001b[39mNone\u001b[39;00m \u001b[39melse\u001b[39;00m {\u001b[39mself\u001b[39m\u001b[39m.\u001b[39m_jupyter_mimetype}\n\u001b[0;32m     97\u001b[0m include \u001b[39m-\u001b[39m\u001b[39m=\u001b[39m \u001b[39mset\u001b[39m(exclude \u001b[39mor\u001b[39;00m [])\n\u001b[1;32m---> 98\u001b[0m \u001b[39mreturn\u001b[39;00m {mimetype: \u001b[39mgetattr\u001b[39;49m(\u001b[39mself\u001b[39;49m, method_name)()\n\u001b[0;32m     99\u001b[0m         \u001b[39mfor\u001b[39;00m mimetype, method_name \u001b[39min\u001b[39;00m MIME_TYPES\u001b[39m.\u001b[39mitems()\n\u001b[0;32m    100\u001b[0m         \u001b[39mif\u001b[39;00m mimetype \u001b[39min\u001b[39;00m include}\n",
      "File \u001b[1;32mc:\\Users\\cheek\\miniconda3\\lib\\site-packages\\graphviz\\jupyter_integration.py:112\u001b[0m, in \u001b[0;36mJupyterIntegration._repr_image_svg_xml\u001b[1;34m(self)\u001b[0m\n\u001b[0;32m    110\u001b[0m \u001b[39mdef\u001b[39;00m \u001b[39m_repr_image_svg_xml\u001b[39m(\u001b[39mself\u001b[39m) \u001b[39m-\u001b[39m\u001b[39m>\u001b[39m \u001b[39mstr\u001b[39m:\n\u001b[0;32m    111\u001b[0m     \u001b[39m\"\"\"Return the rendered graph as SVG string.\"\"\"\u001b[39;00m\n\u001b[1;32m--> 112\u001b[0m     \u001b[39mreturn\u001b[39;00m \u001b[39mself\u001b[39;49m\u001b[39m.\u001b[39;49mpipe(\u001b[39mformat\u001b[39;49m\u001b[39m=\u001b[39;49m\u001b[39m'\u001b[39;49m\u001b[39msvg\u001b[39;49m\u001b[39m'\u001b[39;49m, encoding\u001b[39m=\u001b[39;49mSVG_ENCODING)\n",
      "File \u001b[1;32mc:\\Users\\cheek\\miniconda3\\lib\\site-packages\\graphviz\\piping.py:104\u001b[0m, in \u001b[0;36mPipe.pipe\u001b[1;34m(self, format, renderer, formatter, neato_no_op, quiet, engine, encoding)\u001b[0m\n\u001b[0;32m     55\u001b[0m \u001b[39mdef\u001b[39;00m \u001b[39mpipe\u001b[39m(\u001b[39mself\u001b[39m,\n\u001b[0;32m     56\u001b[0m          \u001b[39mformat\u001b[39m: typing\u001b[39m.\u001b[39mOptional[\u001b[39mstr\u001b[39m] \u001b[39m=\u001b[39m \u001b[39mNone\u001b[39;00m,\n\u001b[0;32m     57\u001b[0m          renderer: typing\u001b[39m.\u001b[39mOptional[\u001b[39mstr\u001b[39m] \u001b[39m=\u001b[39m \u001b[39mNone\u001b[39;00m,\n\u001b[1;32m   (...)\u001b[0m\n\u001b[0;32m     61\u001b[0m          engine: typing\u001b[39m.\u001b[39mOptional[\u001b[39mstr\u001b[39m] \u001b[39m=\u001b[39m \u001b[39mNone\u001b[39;00m,\n\u001b[0;32m     62\u001b[0m          encoding: typing\u001b[39m.\u001b[39mOptional[\u001b[39mstr\u001b[39m] \u001b[39m=\u001b[39m \u001b[39mNone\u001b[39;00m) \u001b[39m-\u001b[39m\u001b[39m>\u001b[39m typing\u001b[39m.\u001b[39mUnion[\u001b[39mbytes\u001b[39m, \u001b[39mstr\u001b[39m]:\n\u001b[0;32m     63\u001b[0m     \u001b[39m\"\"\"Return the source piped through the Graphviz layout command.\u001b[39;00m\n\u001b[0;32m     64\u001b[0m \n\u001b[0;32m     65\u001b[0m \u001b[39m    Args:\u001b[39;00m\n\u001b[1;32m   (...)\u001b[0m\n\u001b[0;32m    102\u001b[0m \u001b[39m        '<?xml version='\u001b[39;00m\n\u001b[0;32m    103\u001b[0m \u001b[39m    \"\"\"\u001b[39;00m\n\u001b[1;32m--> 104\u001b[0m     \u001b[39mreturn\u001b[39;00m \u001b[39mself\u001b[39;49m\u001b[39m.\u001b[39;49m_pipe_legacy(\u001b[39mformat\u001b[39;49m,\n\u001b[0;32m    105\u001b[0m                              renderer\u001b[39m=\u001b[39;49mrenderer,\n\u001b[0;32m    106\u001b[0m                              formatter\u001b[39m=\u001b[39;49mformatter,\n\u001b[0;32m    107\u001b[0m                              neato_no_op\u001b[39m=\u001b[39;49mneato_no_op,\n\u001b[0;32m    108\u001b[0m                              quiet\u001b[39m=\u001b[39;49mquiet,\n\u001b[0;32m    109\u001b[0m                              engine\u001b[39m=\u001b[39;49mengine,\n\u001b[0;32m    110\u001b[0m                              encoding\u001b[39m=\u001b[39;49mencoding)\n",
      "File \u001b[1;32mc:\\Users\\cheek\\miniconda3\\lib\\site-packages\\graphviz\\_tools.py:171\u001b[0m, in \u001b[0;36mdeprecate_positional_args.<locals>.decorator.<locals>.wrapper\u001b[1;34m(*args, **kwargs)\u001b[0m\n\u001b[0;32m    162\u001b[0m     wanted \u001b[39m=\u001b[39m \u001b[39m'\u001b[39m\u001b[39m, \u001b[39m\u001b[39m'\u001b[39m\u001b[39m.\u001b[39mjoin(\u001b[39mf\u001b[39m\u001b[39m'\u001b[39m\u001b[39m{\u001b[39;00mname\u001b[39m}\u001b[39;00m\u001b[39m=\u001b[39m\u001b[39m{\u001b[39;00mvalue\u001b[39m!r}\u001b[39;00m\u001b[39m'\u001b[39m\n\u001b[0;32m    163\u001b[0m                        \u001b[39mfor\u001b[39;00m name, value \u001b[39min\u001b[39;00m deprecated\u001b[39m.\u001b[39mitems())\n\u001b[0;32m    164\u001b[0m     warnings\u001b[39m.\u001b[39mwarn(\u001b[39mf\u001b[39m\u001b[39m'\u001b[39m\u001b[39mThe signature of \u001b[39m\u001b[39m{\u001b[39;00mfunc\u001b[39m.\u001b[39m\u001b[39m__name__\u001b[39m\u001b[39m}\u001b[39;00m\u001b[39m will be reduced\u001b[39m\u001b[39m'\u001b[39m\n\u001b[0;32m    165\u001b[0m                   \u001b[39mf\u001b[39m\u001b[39m'\u001b[39m\u001b[39m to \u001b[39m\u001b[39m{\u001b[39;00msupported_number\u001b[39m}\u001b[39;00m\u001b[39m positional args\u001b[39m\u001b[39m'\u001b[39m\n\u001b[0;32m    166\u001b[0m                   \u001b[39mf\u001b[39m\u001b[39m'\u001b[39m\u001b[39m \u001b[39m\u001b[39m{\u001b[39;00m\u001b[39mlist\u001b[39m(supported)\u001b[39m}\u001b[39;00m\u001b[39m: pass \u001b[39m\u001b[39m{\u001b[39;00mwanted\u001b[39m}\u001b[39;00m\u001b[39m'\u001b[39m\n\u001b[0;32m    167\u001b[0m                   \u001b[39m'\u001b[39m\u001b[39m as keyword arg(s)\u001b[39m\u001b[39m'\u001b[39m,\n\u001b[0;32m    168\u001b[0m                   stacklevel\u001b[39m=\u001b[39mstacklevel,\n\u001b[0;32m    169\u001b[0m                   category\u001b[39m=\u001b[39mcategory)\n\u001b[1;32m--> 171\u001b[0m \u001b[39mreturn\u001b[39;00m func(\u001b[39m*\u001b[39margs, \u001b[39m*\u001b[39m\u001b[39m*\u001b[39mkwargs)\n",
      "File \u001b[1;32mc:\\Users\\cheek\\miniconda3\\lib\\site-packages\\graphviz\\piping.py:121\u001b[0m, in \u001b[0;36mPipe._pipe_legacy\u001b[1;34m(self, format, renderer, formatter, neato_no_op, quiet, engine, encoding)\u001b[0m\n\u001b[0;32m    112\u001b[0m \u001b[39m@_tools\u001b[39m\u001b[39m.\u001b[39mdeprecate_positional_args(supported_number\u001b[39m=\u001b[39m\u001b[39m2\u001b[39m)\n\u001b[0;32m    113\u001b[0m \u001b[39mdef\u001b[39;00m \u001b[39m_pipe_legacy\u001b[39m(\u001b[39mself\u001b[39m,\n\u001b[0;32m    114\u001b[0m                  \u001b[39mformat\u001b[39m: typing\u001b[39m.\u001b[39mOptional[\u001b[39mstr\u001b[39m] \u001b[39m=\u001b[39m \u001b[39mNone\u001b[39;00m,\n\u001b[1;32m   (...)\u001b[0m\n\u001b[0;32m    119\u001b[0m                  engine: typing\u001b[39m.\u001b[39mOptional[\u001b[39mstr\u001b[39m] \u001b[39m=\u001b[39m \u001b[39mNone\u001b[39;00m,\n\u001b[0;32m    120\u001b[0m                  encoding: typing\u001b[39m.\u001b[39mOptional[\u001b[39mstr\u001b[39m] \u001b[39m=\u001b[39m \u001b[39mNone\u001b[39;00m) \u001b[39m-\u001b[39m\u001b[39m>\u001b[39m typing\u001b[39m.\u001b[39mUnion[\u001b[39mbytes\u001b[39m, \u001b[39mstr\u001b[39m]:\n\u001b[1;32m--> 121\u001b[0m     \u001b[39mreturn\u001b[39;00m \u001b[39mself\u001b[39;49m\u001b[39m.\u001b[39;49m_pipe_future(\u001b[39mformat\u001b[39;49m,\n\u001b[0;32m    122\u001b[0m                              renderer\u001b[39m=\u001b[39;49mrenderer,\n\u001b[0;32m    123\u001b[0m                              formatter\u001b[39m=\u001b[39;49mformatter,\n\u001b[0;32m    124\u001b[0m                              neato_no_op\u001b[39m=\u001b[39;49mneato_no_op,\n\u001b[0;32m    125\u001b[0m                              quiet\u001b[39m=\u001b[39;49mquiet,\n\u001b[0;32m    126\u001b[0m                              engine\u001b[39m=\u001b[39;49mengine,\n\u001b[0;32m    127\u001b[0m                              encoding\u001b[39m=\u001b[39;49mencoding)\n",
      "File \u001b[1;32mc:\\Users\\cheek\\miniconda3\\lib\\site-packages\\graphviz\\piping.py:149\u001b[0m, in \u001b[0;36mPipe._pipe_future\u001b[1;34m(self, format, renderer, formatter, neato_no_op, quiet, engine, encoding)\u001b[0m\n\u001b[0;32m    146\u001b[0m \u001b[39mif\u001b[39;00m encoding \u001b[39mis\u001b[39;00m \u001b[39mnot\u001b[39;00m \u001b[39mNone\u001b[39;00m:\n\u001b[0;32m    147\u001b[0m     \u001b[39mif\u001b[39;00m codecs\u001b[39m.\u001b[39mlookup(encoding) \u001b[39mis\u001b[39;00m codecs\u001b[39m.\u001b[39mlookup(\u001b[39mself\u001b[39m\u001b[39m.\u001b[39mencoding):\n\u001b[0;32m    148\u001b[0m         \u001b[39m# common case: both stdin and stdout need the same encoding\u001b[39;00m\n\u001b[1;32m--> 149\u001b[0m         \u001b[39mreturn\u001b[39;00m \u001b[39mself\u001b[39m\u001b[39m.\u001b[39m_pipe_lines_string(\u001b[39m*\u001b[39margs, encoding\u001b[39m=\u001b[39mencoding, \u001b[39m*\u001b[39m\u001b[39m*\u001b[39mkwargs)\n\u001b[0;32m    150\u001b[0m     \u001b[39mtry\u001b[39;00m:\n\u001b[0;32m    151\u001b[0m         raw \u001b[39m=\u001b[39m \u001b[39mself\u001b[39m\u001b[39m.\u001b[39m_pipe_lines(\u001b[39m*\u001b[39margs, input_encoding\u001b[39m=\u001b[39m\u001b[39mself\u001b[39m\u001b[39m.\u001b[39mencoding, \u001b[39m*\u001b[39m\u001b[39m*\u001b[39mkwargs)\n",
      "File \u001b[1;32mc:\\Users\\cheek\\miniconda3\\lib\\site-packages\\graphviz\\backend\\piping.py:212\u001b[0m, in \u001b[0;36mpipe_lines_string\u001b[1;34m(engine, format, input_lines, encoding, renderer, formatter, neato_no_op, quiet)\u001b[0m\n\u001b[0;32m    206\u001b[0m cmd \u001b[39m=\u001b[39m dot_command\u001b[39m.\u001b[39mcommand(engine, \u001b[39mformat\u001b[39m,\n\u001b[0;32m    207\u001b[0m                           renderer\u001b[39m=\u001b[39mrenderer,\n\u001b[0;32m    208\u001b[0m                           formatter\u001b[39m=\u001b[39mformatter,\n\u001b[0;32m    209\u001b[0m                           neato_no_op\u001b[39m=\u001b[39mneato_no_op)\n\u001b[0;32m    210\u001b[0m kwargs \u001b[39m=\u001b[39m {\u001b[39m'\u001b[39m\u001b[39minput_lines\u001b[39m\u001b[39m'\u001b[39m: input_lines, \u001b[39m'\u001b[39m\u001b[39mencoding\u001b[39m\u001b[39m'\u001b[39m: encoding}\n\u001b[1;32m--> 212\u001b[0m proc \u001b[39m=\u001b[39m execute\u001b[39m.\u001b[39mrun_check(cmd, capture_output\u001b[39m=\u001b[39m\u001b[39mTrue\u001b[39;00m, quiet\u001b[39m=\u001b[39mquiet, \u001b[39m*\u001b[39m\u001b[39m*\u001b[39mkwargs)\n\u001b[0;32m    213\u001b[0m \u001b[39mreturn\u001b[39;00m proc\u001b[39m.\u001b[39mstdout\n",
      "File \u001b[1;32mc:\\Users\\cheek\\miniconda3\\lib\\site-packages\\graphviz\\backend\\execute.py:84\u001b[0m, in \u001b[0;36mrun_check\u001b[1;34m(cmd, input_lines, encoding, quiet, **kwargs)\u001b[0m\n\u001b[0;32m     82\u001b[0m \u001b[39mexcept\u001b[39;00m \u001b[39mOSError\u001b[39;00m \u001b[39mas\u001b[39;00m e:\n\u001b[0;32m     83\u001b[0m     \u001b[39mif\u001b[39;00m e\u001b[39m.\u001b[39merrno \u001b[39m==\u001b[39m errno\u001b[39m.\u001b[39mENOENT:\n\u001b[1;32m---> 84\u001b[0m         \u001b[39mraise\u001b[39;00m ExecutableNotFound(cmd) \u001b[39mfrom\u001b[39;00m \u001b[39me\u001b[39;00m\n\u001b[0;32m     85\u001b[0m     \u001b[39mraise\u001b[39;00m\n\u001b[0;32m     87\u001b[0m \u001b[39mif\u001b[39;00m \u001b[39mnot\u001b[39;00m quiet \u001b[39mand\u001b[39;00m proc\u001b[39m.\u001b[39mstderr:\n",
      "\u001b[1;31mExecutableNotFound\u001b[0m: failed to execute WindowsPath('dot'), make sure the Graphviz executables are on your systems' PATH"
     ]
    },
    {
     "data": {
      "text/plain": [
       "<graphviz.graphs.Digraph at 0x1d4917e9ba0>"
      ]
     },
     "execution_count": 42,
     "metadata": {},
     "output_type": "execute_result"
    }
   ],
   "source": [
    "# import torchviz\n",
    "# x = torch.randn(1, input_size)\n",
    "\n",
    "# # Visualize the model\n",
    "# torchviz.make_dot(model(x), params=dict(model.named_parameters()))"
   ]
  },
  {
   "cell_type": "code",
   "execution_count": null,
   "metadata": {},
   "outputs": [],
   "source": [
    "def plot_metrics(train_loss, val_loss, val_acc):\n",
    "    epochs = range(1, len(train_loss) + 1)\n",
    "\n",
    "    plt.figure(figsize=(12, 5))\n",
    "    \n",
    "    plt.subplot(1, 2, 1)\n",
    "    plt.plot(epochs, train_loss, 'bo-', label='Training Loss')\n",
    "    plt.plot(epochs, val_loss, 'ro-', label='Validation Loss')\n",
    "    plt.xlabel('Epochs')\n",
    "    plt.ylabel('Loss')\n",
    "    plt.legend()\n",
    "\n",
    "    plt.subplot(1, 2, 2)\n",
    "    plt.plot(epochs, val_acc, 'ro-', label='Validation Accuracy')\n",
    "    plt.xlabel('Epochs')\n",
    "    plt.ylabel('Accuracy')\n",
    "    plt.legend()\n",
    "\n",
    "    plt.show()"
   ]
  },
  {
   "cell_type": "code",
   "execution_count": null,
   "metadata": {},
   "outputs": [
    {
     "data": {
      "image/png": "[encoded data removed]",
      "text/plain": [
       "<Figure size 1200x500 with 2 Axes>"
      ]
     },
     "metadata": {},
     "output_type": "display_data"
    }
   ],
   "source": [
    "plot_metrics(train_loss_list, val_loss_list, val_accuracy_list)"
   ]
  },
  {
   "cell_type": "code",
   "execution_count": null,
   "metadata": {},
   "outputs": [],
   "source": [
    "predictions = []\n",
    "\n",
    "with torch.no_grad():\n",
    "    for inputs, _ in val_dataloader:\n",
    "        outputs = model(inputs)\n",
    "        probabilities = F.sigmoid(outputs.data).view(-1)\n",
    "\n",
    "        predicted = (probabilities > 0.5).float()\n",
    "        predictions.extend(predicted.tolist())\n",
    "\n",
    "combined = list(zip(video_ids, predictions))\n",
    "        \n",
    "with open(\"predictionsSupervised.txt\", \"w\") as f:\n",
    "    for id,pred in combined:\n",
    "        f.write(f\"{id},{pred}\\n\")\n"
   ]
  },
  {
   "attachments": {},
   "cell_type": "markdown",
   "metadata": {},
   "source": [
    "# 1CC"
   ]
  },
  {
   "cell_type": "code",
   "execution_count": null,
   "metadata": {},
   "outputs": [],
   "source": [
    "onec_train = traindf.loc[traindf['trending'] == 1]\n",
    "onec_val = valdf"
   ]
  },
  {
   "cell_type": "code",
   "execution_count": null,
   "metadata": {},
   "outputs": [],
   "source": [
    "yc_train = onec_train['trending']\n",
    "yc_val = onec_val['trending']"
   ]
  },
  {
   "cell_type": "code",
   "execution_count": null,
   "metadata": {},
   "outputs": [],
   "source": [
    "Xc_train = np.stack(onec_train['vector'])\n",
    "Xc_test = np.stack(onec_val['vector'])"
   ]
  },
  {
   "cell_type": "code",
   "execution_count": null,
   "metadata": {},
   "outputs": [],
   "source": [
    "train_data = torch.tensor(Xc_train, dtype=torch.float)\n",
    "train_labels = torch.tensor(yc_train, dtype=torch.float)\n",
    "val_data = torch.tensor(Xc_test, dtype=torch.float)\n",
    "val_labels = torch.tensor(yc_val, dtype=torch.float)\n",
    "\n",
    "train_dataset = TensorDataset(train_data, train_labels)\n",
    "val_dataset = TensorDataset(val_data, val_labels)\n",
    "\n",
    "train_dataloader = DataLoader(train_dataset, batch_size=32, shuffle=True)\n",
    "val_dataloader = DataLoader(val_dataset, batch_size=32, shuffle=False)"
   ]
  },
  {
   "cell_type": "code",
   "execution_count": null,
   "metadata": {},
   "outputs": [],
   "source": [
    "class OneClassNN(nn.Module):\n",
    "    def __init__(self, input_size):\n",
    "        super(OneClassNN, self).__init__()\n",
    "        self.fc1 = nn.Linear(input_size, 128)\n",
    "        self.fc2 = nn.Linear(128, 64)\n",
    "        self.fc3 = nn.Linear(64, 1)\n",
    "\n",
    "    def forward(self, x):\n",
    "        x = F.relu(self.fc1(x))\n",
    "        x = F.relu(self.fc2(x))\n",
    "        x = self.fc3(x)\n",
    "        return x\n",
    "\n",
    "# class OneClassNN(nn.Module):\n",
    "#     def __init__(self, input_size):\n",
    "#         super(OneClassNN, self).__init__()\n",
    "#         self.fc1 = nn.Linear(input_size, 256)\n",
    "#         self.dropout1 = nn.Dropout(0.5)\n",
    "#         self.fc2 = nn.Linear(256, 128)\n",
    "#         self.dropout2 = nn.Dropout(0.5)\n",
    "#         self.fc3 = nn.Linear(128, 64)\n",
    "#         self.dropout3 = nn.Dropout(0.5)\n",
    "#         self.fc4 = nn.Linear(64, 32)\n",
    "#         self.dropout4 = nn.Dropout(0.5)\n",
    "#         self.fc5 = nn.Linear(32, 1)\n",
    "\n",
    "#     def forward(self, x):\n",
    "#         x = F.relu(self.fc1(x))\n",
    "#         x = self.dropout1(x)\n",
    "#         x = F.relu(self.fc2(x))\n",
    "#         x = self.dropout2(x)\n",
    "#         x = F.relu(self.fc3(x))\n",
    "#         x = self.dropout3(x)\n",
    "#         x = F.relu(self.fc4(x))\n",
    "#         x = self.dropout4(x)\n",
    "#         x = self.fc5(x)\n",
    "#         return x\n"
   ]
  },
  {
   "cell_type": "code",
   "execution_count": null,
   "metadata": {},
   "outputs": [],
   "source": [
    "def one_class_hinge_loss(outputs, margin=1.0):\n",
    "    return torch.mean(F.relu(margin - outputs))"
   ]
  },
  {
   "cell_type": "code",
   "execution_count": null,
   "metadata": {},
   "outputs": [
    {
     "name": "stdout",
     "output_type": "stream",
     "text": [
      "Epoch 1, Train Loss: 0.001078838709337801\n",
      "Epoch 1, Validation Loss: 0.0004124740671613836, Validation Accuracy: 0.5089641434262948\n",
      "Epoch 2, Train Loss: 0.0002691856720690232\n",
      "Epoch 2, Validation Loss: 0.00027256278872300754, Validation Accuracy: 0.5089641434262948\n",
      "Epoch 3, Train Loss: 0.00023792124364477145\n",
      "Epoch 3, Validation Loss: 0.0002720322490858962, Validation Accuracy: 0.5089641434262948\n",
      "Epoch 4, Train Loss: 0.00023790127007112673\n",
      "Epoch 4, Validation Loss: 0.0002719275785239006, Validation Accuracy: 0.5089641434262948\n",
      "Epoch 5, Train Loss: 0.0002376667237994672\n",
      "Epoch 5, Validation Loss: 0.0002725495246522769, Validation Accuracy: 0.5089641434262948\n",
      "Epoch 6, Train Loss: 0.0002378264541809639\n",
      "Epoch 6, Validation Loss: 0.000272395364845579, Validation Accuracy: 0.5089641434262948\n",
      "Epoch 7, Train Loss: 0.00023789617711479557\n",
      "Epoch 7, Validation Loss: 0.00027222258677284117, Validation Accuracy: 0.5089641434262948\n",
      "Epoch 8, Train Loss: 0.00023804808006389067\n",
      "Epoch 8, Validation Loss: 0.00027242615669820225, Validation Accuracy: 0.5089641434262948\n",
      "Epoch 9, Train Loss: 0.0002378539155709886\n",
      "Epoch 9, Validation Loss: 0.00027174630622539553, Validation Accuracy: 0.5089641434262948\n",
      "Epoch 10, Train Loss: 0.00023788650180315874\n",
      "Epoch 10, Validation Loss: 0.000272232436145714, Validation Accuracy: 0.5089641434262948\n",
      "Epoch 11, Train Loss: 0.00023807774628307123\n",
      "Epoch 11, Validation Loss: 0.0002721173291320156, Validation Accuracy: 0.5089641434262948\n",
      "Epoch 12, Train Loss: 0.00023784414695589528\n",
      "Epoch 12, Validation Loss: 0.0002725678873503057, Validation Accuracy: 0.5089641434262948\n",
      "Epoch 13, Train Loss: 0.00023785289800691637\n",
      "Epoch 13, Validation Loss: 0.00027229759143665433, Validation Accuracy: 0.5089641434262948\n",
      "Epoch 14, Train Loss: 0.0002379098028434194\n",
      "Epoch 14, Validation Loss: 0.0002716569033509586, Validation Accuracy: 0.5089641434262948\n",
      "Epoch 15, Train Loss: 0.00023799443785238136\n",
      "Epoch 15, Validation Loss: 0.0002717794191084977, Validation Accuracy: 0.5089641434262948\n",
      "Epoch 16, Train Loss: 0.00023803316306678906\n",
      "Epoch 16, Validation Loss: 0.00027214161809752113, Validation Accuracy: 0.5089641434262948\n",
      "Epoch 17, Train Loss: 0.00023842134610544343\n",
      "Epoch 17, Validation Loss: 0.0002718130162975285, Validation Accuracy: 0.5089641434262948\n",
      "Epoch 18, Train Loss: 0.00023803184098249082\n",
      "Epoch 18, Validation Loss: 0.00027194571566724335, Validation Accuracy: 0.5089641434262948\n",
      "Epoch 19, Train Loss: 0.0002379449797444977\n",
      "Epoch 19, Validation Loss: 0.0002718306996030151, Validation Accuracy: 0.5089641434262948\n",
      "Epoch 20, Train Loss: 0.00023792872611118262\n",
      "Epoch 20, Validation Loss: 0.00027206153981751413, Validation Accuracy: 0.5089641434262948\n",
      "Epoch 21, Train Loss: 0.0002379727114149479\n",
      "Epoch 21, Validation Loss: 0.00027225892517890316, Validation Accuracy: 0.5089641434262948\n",
      "Epoch 22, Train Loss: 0.00023795453821281518\n",
      "Epoch 22, Validation Loss: 0.0002726026318669028, Validation Accuracy: 0.5089641434262948\n",
      "Epoch 23, Train Loss: 0.00023789332665140084\n",
      "Epoch 23, Validation Loss: 0.0002729901016209624, Validation Accuracy: 0.5089641434262948\n",
      "Epoch 24, Train Loss: 0.00023784931523978766\n",
      "Epoch 24, Validation Loss: 0.00027202836599826696, Validation Accuracy: 0.5089641434262948\n",
      "Epoch 25, Train Loss: 0.000238066596306025\n",
      "Epoch 25, Validation Loss: 0.0002720288498494483, Validation Accuracy: 0.5089641434262948\n"
     ]
    }
   ],
   "source": [
    "class Autoencoder(nn.Module):\n",
    "    def __init__(self, input_size):\n",
    "        super(Autoencoder, self).__init__()\n",
    "        self.encoder = nn.Sequential(\n",
    "            nn.Linear(input_size, 256),\n",
    "            nn.ReLU(),\n",
    "            nn.Linear(256, 128),\n",
    "            nn.ReLU(),\n",
    "            nn.Linear(128, 64),\n",
    "            nn.ReLU()\n",
    "        )\n",
    "        self.decoder = nn.Sequential(\n",
    "            nn.Linear(64, 128),\n",
    "            nn.ReLU(),\n",
    "            nn.Linear(128, 256),\n",
    "            nn.ReLU(),\n",
    "            nn.Linear(256, input_size)\n",
    "        )\n",
    "\n",
    "    def forward(self, x):\n",
    "        x = self.encoder(x)\n",
    "        x = self.decoder(x)\n",
    "        return x\n",
    "\n",
    "\n",
    "input_size = 300\n",
    "model = Autoencoder(input_size)\n",
    "\n",
    "learning_rate = 0.0001\n",
    "criterion = nn.MSELoss()\n",
    "optimizer = optim.Adam(model.parameters(), lr=learning_rate, weight_decay=1e-5)\n",
    "\n",
    "num_epochs = 25\n",
    "\n",
    "train_loss_list = []\n",
    "val_loss_list = []\n",
    "val_accuracy_list = []\n",
    "\n",
    "for epoch in range(num_epochs):\n",
    "    model.train()\n",
    "    running_loss = 0.0\n",
    "    for inputs, _ in train_dataloader:\n",
    "        optimizer.zero_grad()\n",
    "\n",
    "        outputs = model(inputs)\n",
    "        loss = criterion(outputs, inputs)\n",
    "\n",
    "        loss.backward()\n",
    "        optimizer.step()\n",
    "\n",
    "        running_loss += loss.item()\n",
    "\n",
    "    train_loss = running_loss / len(train_dataloader)\n",
    "    print(f\"Epoch {epoch+1}, Train Loss: {train_loss}\")\n",
    "    train_loss_list.append(train_loss)\n",
    "\n",
    "    model.eval()\n",
    "    running_loss = 0.0\n",
    "    correct = 0\n",
    "    total = 0\n",
    "    with torch.no_grad():\n",
    "        for inputs, labels in val_dataloader:\n",
    "            outputs = model(inputs)\n",
    "            loss = criterion(outputs, inputs)\n",
    "\n",
    "            running_loss += loss.item()\n",
    "\n",
    "            reconstruction_error = torch.mean((outputs - inputs)**2, dim=1)\n",
    "            predicted = (reconstruction_error > 0).float()\n",
    "\n",
    "            total += labels.size(0)\n",
    "            correct += (predicted == labels).sum().item()\n",
    "\n",
    "    val_loss = running_loss / len(val_dataloader)\n",
    "    val_accuracy = correct / total\n",
    "    print(f\"Epoch {epoch+1}, Validation Loss: {val_loss}, Validation Accuracy: {val_accuracy}\")\n",
    "    val_loss_list.append(val_loss)\n",
    "    val_accuracy_list.append(val_accuracy)\n"
   ]
  },
  {
   "cell_type": "code",
   "execution_count": null,
   "metadata": {},
   "outputs": [
    {
     "data": {
      "image/png": "[encoded data removed]",
      "text/plain": [
       "<Figure size 1200x500 with 2 Axes>"
      ]
     },
     "metadata": {},
     "output_type": "display_data"
    }
   ],
   "source": [
    "plot_metrics(train_loss_list, val_loss_list, val_accuracy_list)"
   ]
  },
  {
   "cell_type": "code",
   "execution_count": null,
   "metadata": {},
   "outputs": [
    {
     "name": "stdout",
     "output_type": "stream",
     "text": [
      "Epoch 1, Train Loss: 0.8704624517875559\n",
      "Epoch 1, Validation Loss: 0.8236069418489933, Validation Accuracy: 6.107569721115538\n",
      "Epoch 2, Train Loss: 0.7520405010265463\n",
      "Epoch 2, Validation Loss: 0.6619070991873741, Validation Accuracy: 6.107569721115538\n",
      "Epoch 3, Train Loss: 0.5057505461222985\n",
      "Epoch 3, Validation Loss: 0.3127455860376358, Validation Accuracy: 6.107569721115538\n",
      "Epoch 4, Train Loss: 0.08372617663596482\n",
      "Epoch 4, Validation Loss: 0.0017671866808086634, Validation Accuracy: 6.107569721115538\n",
      "Epoch 5, Train Loss: 0.00032484488260439215\n",
      "Epoch 5, Validation Loss: 0.0010794365662150085, Validation Accuracy: 6.107569721115538\n",
      "Epoch 6, Train Loss: 0.00018960675772498637\n",
      "Epoch 6, Validation Loss: 0.0007195283542387187, Validation Accuracy: 6.107569721115538\n",
      "Epoch 7, Train Loss: 0.00012514693020527964\n",
      "Epoch 7, Validation Loss: 0.000574931560549885, Validation Accuracy: 6.107569721115538\n",
      "Epoch 8, Train Loss: 8.208619649795925e-05\n",
      "Epoch 8, Validation Loss: 0.00044223328586667776, Validation Accuracy: 6.107569721115538\n",
      "Epoch 9, Train Loss: 5.950828028075835e-05\n",
      "Epoch 9, Validation Loss: 0.0003716269857250154, Validation Accuracy: 6.107569721115538\n",
      "Epoch 10, Train Loss: 4.553394939969568e-05\n",
      "Epoch 10, Validation Loss: 0.0003214679891243577, Validation Accuracy: 6.107569721115538\n",
      "Epoch 11, Train Loss: 3.3144921283511556e-05\n",
      "Epoch 11, Validation Loss: 0.0002549489145167172, Validation Accuracy: 6.107569721115538\n",
      "Epoch 12, Train Loss: 1.8429504159618827e-05\n",
      "Epoch 12, Validation Loss: 0.00020664004841819406, Validation Accuracy: 6.107569721115538\n",
      "Epoch 13, Train Loss: 7.924897705807406e-06\n",
      "Epoch 13, Validation Loss: 0.00017945864237844944, Validation Accuracy: 6.107569721115538\n",
      "Epoch 14, Train Loss: 3.705924267277998e-06\n",
      "Epoch 14, Validation Loss: 0.00016847264487296343, Validation Accuracy: 6.107569721115538\n",
      "Epoch 15, Train Loss: 2.077671096605413e-06\n",
      "Epoch 15, Validation Loss: 0.00015700876247137785, Validation Accuracy: 6.107569721115538\n",
      "Epoch 16, Train Loss: 2.2518832017393672e-07\n",
      "Epoch 16, Validation Loss: 0.00014415796613320708, Validation Accuracy: 6.107569721115538\n",
      "Epoch 17, Train Loss: 0.0\n",
      "Epoch 17, Validation Loss: 0.00014682410983368754, Validation Accuracy: 6.107569721115538\n",
      "Epoch 18, Train Loss: 0.0\n",
      "Epoch 18, Validation Loss: 0.00014962628483772278, Validation Accuracy: 6.107569721115538\n",
      "Epoch 19, Train Loss: 0.0\n",
      "Epoch 19, Validation Loss: 0.0001525434199720621, Validation Accuracy: 6.107569721115538\n",
      "Epoch 20, Train Loss: 0.0\n",
      "Epoch 20, Validation Loss: 0.0001555753406137228, Validation Accuracy: 6.107569721115538\n",
      "Epoch 21, Train Loss: 0.0\n",
      "Epoch 21, Validation Loss: 0.00015872129006311297, Validation Accuracy: 6.107569721115538\n",
      "Epoch 22, Train Loss: 0.0\n",
      "Epoch 22, Validation Loss: 0.00016198429511860013, Validation Accuracy: 6.107569721115538\n",
      "Epoch 23, Train Loss: 0.0\n",
      "Epoch 23, Validation Loss: 0.0001653610379435122, Validation Accuracy: 6.107569721115538\n",
      "Epoch 24, Train Loss: 0.0\n",
      "Epoch 24, Validation Loss: 0.00016885664081200957, Validation Accuracy: 6.107569721115538\n",
      "Epoch 25, Train Loss: 8.691430968396804e-08\n",
      "Epoch 25, Validation Loss: 0.00015391636407002807, Validation Accuracy: 6.107569721115538\n"
     ]
    }
   ],
   "source": [
    "input_size = 300\n",
    "num_classes = 1\n",
    "model = OneClassNN(input_size)\n",
    "\n",
    "learning_rate = 0.0001\n",
    "#criterion = nn.BCEWithLogitsLoss()\n",
    "optimizer = optim.Adam(model.parameters(), lr=learning_rate, weight_decay=1e-5)\n",
    "\n",
    "num_epochs = 25\n",
    "\n",
    "train_loss_list = []\n",
    "val_loss_list = []\n",
    "val_accuracy_list = []\n",
    "\n",
    "for epoch in range(num_epochs):\n",
    "    model.train()\n",
    "    running_loss = 0.0\n",
    "    for inputs, labels in train_dataloader:\n",
    "        optimizer.zero_grad()\n",
    "\n",
    "        outputs = model(inputs)\n",
    "        loss = one_class_hinge_loss(outputs)\n",
    "\n",
    "        loss.backward()\n",
    "        optimizer.step()\n",
    "\n",
    "        running_loss += loss.item()\n",
    "\n",
    "    train_loss = running_loss / len(train_dataloader)\n",
    "    print(f\"Epoch {epoch+1}, Train Loss: {train_loss}\")\n",
    "    train_loss_list.append(train_loss)\n",
    "\n",
    "    model.eval()\n",
    "    running_loss = 0.0\n",
    "    correct = 0\n",
    "    total = 0\n",
    "    with torch.no_grad():\n",
    "        for inputs, labels in val_dataloader:\n",
    "            outputs = model(inputs)\n",
    "            loss = one_class_hinge_loss(outputs)\n",
    "\n",
    "            running_loss += loss.item()\n",
    "\n",
    "            \n",
    "\n",
    "            total += labels.size(0)\n",
    "            correct += (predicted == labels.view(-1, 1).float()).sum().item()\n",
    "\n",
    "    val_loss = running_loss / len(val_dataloader)\n",
    "    val_accuracy = correct / total\n",
    "    print(f\"Epoch {epoch+1}, Validation Loss: {val_loss}, Validation Accuracy: {val_accuracy}\")\n",
    "    val_loss_list.append(val_loss)\n",
    "    val_accuracy_list.append(val_accuracy)"
   ]
  },
  {
   "cell_type": "code",
   "execution_count": null,
   "metadata": {},
   "outputs": [
    {
     "data": {
      "image/png": "[encoded data removed]",
      "text/plain": [
       "<Figure size 1200x500 with 2 Axes>"
      ]
     },
     "metadata": {},
     "output_type": "display_data"
    }
   ],
   "source": [
    "plot_metrics(train_loss_list, val_loss_list, val_accuracy_list)"
   ]
  },
  {
   "cell_type": "code",
   "execution_count": null,
   "metadata": {},
   "outputs": [],
   "source": [
    "predictions = []\n",
    "\n",
    "with torch.no_grad():\n",
    "    for inputs, labels in val_dataloader:\n",
    "        outputs = model(inputs)\n",
    "        predicted = (torch.sigmoid(outputs.data) > 0.5).float()\n",
    "        \n",
    "        predictions.extend(predicted[0])\n",
    "\n",
    "combined = list(zip(video_ids, predictions))\n",
    "        \n",
    "with open(\"predictionsOneClass.txt\", \"w\") as f:\n",
    "    for id,pred in combined:\n",
    "        f.write(f\"{id},{pred}\\n\")\n"
   ]
  }
 ],
 "metadata": {
  "kernelspec": {
   "display_name": "base",
   "language": "python",
   "name": "python3"
  },
  "language_info": {
   "codemirror_mode": {
    "name": "ipython",
    "version": 3
   },
   "file_extension": ".py",
   "mimetype": "text/x-python",
   "name": "python",
   "nbconvert_exporter": "python",
   "pygments_lexer": "ipython3",
   "version": "3.10.8"
  },
  "orig_nbformat": 4,
  "vscode": {
   "interpreter": {
    "hash": "8a29500abb6bdb3556fdfc455803f9bb3348bbc89ce500f32511904c582090f9"
   }
  }
 },
 "nbformat": 4,
 "nbformat_minor": 2
}
