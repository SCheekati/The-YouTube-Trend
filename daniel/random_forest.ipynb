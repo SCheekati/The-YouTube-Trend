{
 "cells": [
  {
   "cell_type": "code",
   "execution_count": 1,
   "metadata": {},
   "outputs": [],
   "source": [
    "import pandas as pd\n",
    "import numpy as np\n",
    "from sklearn.ensemble import RandomForestClassifier\n",
    "import matplotlib.pyplot as plt\n",
    "import sklearn\n",
    "from sklearn.decomposition import PCA"
   ]
  },
  {
   "cell_type": "code",
   "execution_count": 2,
   "metadata": {},
   "outputs": [
    {
     "name": "stdout",
     "output_type": "stream",
     "text": [
      "(4324, 11)\n",
      "(1082, 11)\n",
      "(4324,)\n",
      "(1082,)\n"
     ]
    }
   ],
   "source": [
    "train_data = pd.read_csv('../dataset/output/dataset_mar_23/new_train.csv').to_numpy()\n",
    "val_data = pd.read_csv('../dataset/output/dataset_mar_23/new_val.csv').to_numpy()\n",
    "\n",
    "general_train_np = train_data[:, [6, 7, 8, 9, 10, 11, 14, 15, 16, 17, 19]].astype(float)\n",
    "train_y_np = train_data[:, -1].astype(int)\n",
    "\n",
    "general_train_np = train_data[:, [6, 7, 8, 9, 10, 11, 14, 15, 16, 17, 19]].astype(float)\n",
    "train_y_np = train_data[:, -1].astype(int)\n",
    "general_train_np[:, 7:10] = general_train_np[:, 7:10] / general_train_np[:, [6]]\n",
    "general_train_np = (general_train_np - np.mean(general_train_np, axis=0)) / np.std(general_train_np, axis=0)\n",
    "\n",
    "general_val_np = val_data[:, [6, 7, 8, 9, 10, 11, 14, 15, 16, 17, 19]].astype(float)\n",
    "val_y_np = val_data[:, -1].astype(int)\n",
    "\n",
    "general_val_np = val_data[:, [6, 7, 8, 9, 10, 11, 14, 15, 16, 17, 19]].astype(float)\n",
    "val_y_np = val_data[:, -1].astype(int)\n",
    "general_val_np[:, 7:10] = general_val_np[:, 7:10] / general_val_np[:, [6]]\n",
    "general_val_np = (general_val_np - np.mean(general_val_np, axis=0)) / np.std(general_val_np, axis=0)\n",
    "\n",
    "print(general_train_np.shape)\n",
    "print(general_val_np.shape)\n",
    "print(train_y_np.shape)\n",
    "print(val_y_np.shape)"
   ]
  },
  {
   "cell_type": "code",
   "execution_count": 3,
   "metadata": {},
   "outputs": [
    {
     "name": "stdout",
     "output_type": "stream",
     "text": [
      "0.9131238447319778\n"
     ]
    }
   ],
   "source": [
    "r0 = RandomForestClassifier()\n",
    "r0.fit(general_train_np, train_y_np)\n",
    "print(r0.score(general_val_np, val_y_np))"
   ]
  }
 ],
 "metadata": {
  "kernelspec": {
   "display_name": "base",
   "language": "python",
   "name": "python3"
  },
  "language_info": {
   "codemirror_mode": {
    "name": "ipython",
    "version": 3
   },
   "file_extension": ".py",
   "mimetype": "text/x-python",
   "name": "python",
   "nbconvert_exporter": "python",
   "pygments_lexer": "ipython3",
   "version": "3.9.16"
  },
  "orig_nbformat": 4
 },
 "nbformat": 4,
 "nbformat_minor": 2
}
