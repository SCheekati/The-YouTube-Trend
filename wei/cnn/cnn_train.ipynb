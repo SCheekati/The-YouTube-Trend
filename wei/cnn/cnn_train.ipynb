{
 "cells": [
  {
   "cell_type": "code",
   "execution_count": 1,
   "id": "7ade5781",
   "metadata": {},
   "outputs": [],
   "source": [
    "import torch\n",
    "import numpy as np\n",
    "import torch.nn as nn\n",
    "import torchvision\n",
    "import torchvision.transforms as transforms\n",
    "from torch.utils import data\n",
    "\n",
    "import requests\n",
    "import string\n",
    "import urllib.request\n",
    "import urllib.error\n",
    "from pandas import *\n",
    "\n",
    "import imageio.v3 as iio\n",
    "from pathlib import Path\n",
    "from tqdm import tqdm"
   ]
  },
  {
   "cell_type": "code",
   "execution_count": 2,
   "id": "35e44495",
   "metadata": {},
   "outputs": [],
   "source": [
    "from dataset import YTDataset\n",
    "from cnn import Net"
   ]
  },
  {
   "cell_type": "code",
   "execution_count": 3,
   "id": "778c91e4",
   "metadata": {},
   "outputs": [
    {
     "name": "stdout",
     "output_type": "stream",
     "text": [
      "cpu\n"
     ]
    }
   ],
   "source": [
    "if torch.cuda.is_available():\n",
    "    device = torch.device('cuda')\n",
    "else:\n",
    "    device = torch.device('cpu')\n",
    "print(device)"
   ]
  },
  {
   "cell_type": "code",
   "execution_count": 4,
   "id": "5d421afb",
   "metadata": {},
   "outputs": [
    {
     "name": "stdout",
     "output_type": "stream",
     "text": [
      "Net(\n",
      "  (cnn_layers): Sequential(\n",
      "    (0): Conv2d(3, 4, kernel_size=(3, 3), stride=(1, 1), padding=(1, 1))\n",
      "    (1): BatchNorm2d(4, eps=1e-05, momentum=0.1, affine=True, track_running_stats=True)\n",
      "    (2): ReLU(inplace=True)\n",
      "    (3): MaxPool2d(kernel_size=2, stride=2, padding=0, dilation=1, ceil_mode=False)\n",
      "    (4): Conv2d(4, 4, kernel_size=(3, 3), stride=(1, 1), padding=(1, 1))\n",
      "    (5): BatchNorm2d(4, eps=1e-05, momentum=0.1, affine=True, track_running_stats=True)\n",
      "    (6): ReLU(inplace=True)\n",
      "    (7): MaxPool2d(kernel_size=2, stride=2, padding=0, dilation=1, ceil_mode=False)\n",
      "  )\n",
      "  (linear_layers): Sequential(\n",
      "    (0): Linear(in_features=43200, out_features=10, bias=True)\n",
      "    (1): Linear(in_features=10, out_features=1, bias=True)\n",
      "  )\n",
      ")\n"
     ]
    }
   ],
   "source": [
    "from torch.nn import BCEWithLogitsLoss\n",
    "from torch.optim import Adam, SGD\n",
    "\n",
    "# defining the model\n",
    "model = Net().to(device)\n",
    "# defining the optimizer\n",
    "optimizer = Adam(model.parameters(), lr=0.07)\n",
    "# defining the loss function\n",
    "criterion = BCEWithLogitsLoss()\n",
    "# checking if GPU is available\n",
    "if torch.cuda.is_available():\n",
    "    model = model.cuda()\n",
    "    criterion = criterion.cuda()\n",
    "    \n",
    "print(model)"
   ]
  },
  {
   "cell_type": "code",
   "execution_count": 5,
   "id": "9b2c1585",
   "metadata": {},
   "outputs": [],
   "source": [
    "## dataset\n",
    "dataset_path = Path('image_data/')\n",
    "\n",
    "train_dataset = YTDataset(dataset_path, split='train', is_norm=True)\n",
    "val_dataset = YTDataset(dataset_path, split='val', is_norm=True)\n",
    "\n",
    "batch_size = 4\n",
    "num_epoch = 10\n",
    "\n",
    "train_loader = data.DataLoader(train_dataset, batch_size=batch_size, num_workers=10, shuffle=True, drop_last=True)\n",
    "val_loader = data.DataLoader(val_dataset, batch_size=1, num_workers=10, shuffle=False)"
   ]
  },
  {
   "cell_type": "code",
   "execution_count": 6,
   "id": "cc74c322",
   "metadata": {},
   "outputs": [],
   "source": [
    "def train(device, model, train_loader, epoch, criterion, optimizer):\n",
    "    \n",
    "    print_freq = (len(train_loader.dataset) // batch_size) // 3\n",
    "\n",
    "    model.train()\n",
    "\n",
    "    for batch_count, (image_data, label_data, video_id) in enumerate(train_loader):\n",
    "\n",
    "        #cuda or cpu\n",
    "        image_data = image_data.to(device, dtype=torch.float)\n",
    "        label_data = label_data.to(device, dtype=torch.float)\n",
    "    \n",
    "        \n",
    "        optimizer.zero_grad()\n",
    "\n",
    "        output_data = model(image_data)\n",
    "        \n",
    "        loss = criterion(output_data, label_data)\n",
    "\n",
    "        loss.backward()\n",
    "\n",
    "        optimizer.step()\n",
    "\n",
    "        per_loss = loss.item()\n",
    "\n",
    "        if batch_count%print_freq == 0:\n",
    "            print('Epoch [%d/%d] Loss: %.8f' %(epoch, num_epoch, per_loss))\n"
   ]
  },
  {
   "cell_type": "code",
   "execution_count": 7,
   "id": "d3032e6b",
   "metadata": {},
   "outputs": [],
   "source": [
    "def validation(device, model, val_loader, epoch, criterion):\n",
    "\n",
    "    model.eval()\n",
    "\n",
    "    total_loss = 0\n",
    "\n",
    "\n",
    "    with torch.no_grad():\n",
    "\n",
    "        for batch_count, (image_data, label_data, video_id) in enumerate(tqdm(val_loader)):\n",
    "\n",
    "            #cuda or cpu\n",
    "            image_data = image_data.to(device, dtype=torch.float)\n",
    "            label_data = label_data.to(device, dtype=torch.float)\n",
    "\n",
    "            output_data = model(image_data)\n",
    "\n",
    "            loss = criterion(output_data, label_data)\n",
    "            total_loss += loss.item()\n",
    "\n",
    "    return total_loss / len(val_loader.dataset)"
   ]
  },
  {
   "cell_type": "code",
   "execution_count": null,
   "id": "46692190",
   "metadata": {},
   "outputs": [
    {
     "name": "stdout",
     "output_type": "stream",
     "text": [
      "Epoch [0/10] Loss: 0.73827529\n",
      "Epoch [0/10] Loss: 0.74540329\n",
      "Epoch [0/10] Loss: 0.68988353\n"
     ]
    },
    {
     "name": "stderr",
     "output_type": "stream",
     "text": [
      "100%|█████████████████████████████████████████████████████████████████████| 1076/1076 [00:57<00:00, 18.77it/s]"
     ]
    },
    {
     "name": "stdout",
     "output_type": "stream",
     "text": [
      "val_loss:0.6923979888064268\n"
     ]
    },
    {
     "name": "stderr",
     "output_type": "stream",
     "text": [
      "\n"
     ]
    },
    {
     "name": "stdout",
     "output_type": "stream",
     "text": [
      "Epoch [1/10] Loss: 0.75596094\n",
      "Epoch [1/10] Loss: 0.69347358\n"
     ]
    }
   ],
   "source": [
    "for epoch in range(num_epoch):\n",
    "\n",
    "    train(device, model, train_loader, epoch, criterion, optimizer)\n",
    "    loss = validation(device, model, val_loader, epoch, criterion)\n",
    "    print('val_loss:' + str(loss))"
   ]
  },
  {
   "cell_type": "code",
   "execution_count": null,
   "id": "06fae158",
   "metadata": {},
   "outputs": [],
   "source": []
  }
 ],
 "metadata": {
  "kernelspec": {
   "display_name": "Python 3 (ipykernel)",
   "language": "python",
   "name": "python3"
  },
  "language_info": {
   "codemirror_mode": {
    "name": "ipython",
    "version": 3
   },
   "file_extension": ".py",
   "mimetype": "text/x-python",
   "name": "python",
   "nbconvert_exporter": "python",
   "pygments_lexer": "ipython3",
   "version": "3.9.16"
  }
 },
 "nbformat": 4,
 "nbformat_minor": 5
}
